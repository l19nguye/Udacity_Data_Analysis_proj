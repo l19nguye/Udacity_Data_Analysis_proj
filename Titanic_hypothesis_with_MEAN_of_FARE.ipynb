{
 "cells": [
  {
   "cell_type": "code",
   "execution_count": 48,
   "metadata": {
    "collapsed": true
   },
   "outputs": [],
   "source": [
    "# THIS ANALYZING IS FOCUSING ON THE FARE DATA "
   ]
  },
  {
   "cell_type": "code",
   "execution_count": 49,
   "metadata": {
    "collapsed": true
   },
   "outputs": [],
   "source": [
    "import pandas as pd\n",
    "from pandas import Series, DataFrame\n",
    "import matplotlib as plt\n",
    "%matplotlib inline"
   ]
  },
  {
   "cell_type": "code",
   "execution_count": 50,
   "metadata": {
    "collapsed": true
   },
   "outputs": [],
   "source": [
    "# reading data from csv file\n",
    "full_data = pd.read_csv('titanic-data.csv')"
   ]
  },
  {
   "cell_type": "code",
   "execution_count": 51,
   "metadata": {
    "collapsed": true
   },
   "outputs": [],
   "source": [
    "# split data into 2 groups: SURVIVED and NON-SURVIVED groups\n",
    "full_data_survived = full_data[full_data['Survived'] == 1]\n",
    "full_data_non_survived = full_data[full_data['Survived'] == 0]"
   ]
  },
  {
   "cell_type": "markdown",
   "metadata": {},
   "source": [
    "## 1. Displaying the statistic values and box plot."
   ]
  },
  {
   "cell_type": "code",
   "execution_count": 52,
   "metadata": {
    "collapsed": true
   },
   "outputs": [],
   "source": [
    "# What i'm going to do here is:\n",
    "\n",
    "# 1. Spliting full data into 2 groups: Survived and Non-survived, just focusing on the Fare data only.\n",
    "\n",
    "# 2. Displaying the statistic values of each data group.\n",
    "\n",
    "# 3. Display the box and whisker plot for both data groups."
   ]
  },
  {
   "cell_type": "code",
   "execution_count": 53,
   "metadata": {
    "collapsed": true
   },
   "outputs": [],
   "source": [
    "################################### START 1 ###################################"
   ]
  },
  {
   "cell_type": "code",
   "execution_count": 54,
   "metadata": {
    "collapsed": false
   },
   "outputs": [],
   "source": [
    "# excluding records which has Fare = 0\n",
    "# just need data of columns: Fare, Survived\n",
    "\n",
    "fare_data_survived = full_data_survived[full_data_survived['Fare'] > 0][['Fare','Survived']]\n",
    "fare_data_non_survived = full_data_non_survived[full_data_non_survived['Fare'] > 0][['Fare','Survived']]"
   ]
  },
  {
   "cell_type": "code",
   "execution_count": 55,
   "metadata": {
    "collapsed": true
   },
   "outputs": [],
   "source": [
    "################################### END 1 ###################################"
   ]
  },
  {
   "cell_type": "code",
   "execution_count": 56,
   "metadata": {
    "collapsed": true
   },
   "outputs": [],
   "source": [
    "################################### START 2 ###################################"
   ]
  },
  {
   "cell_type": "code",
   "execution_count": 57,
   "metadata": {
    "collapsed": false
   },
   "outputs": [
    {
     "data": {
      "text/plain": [
       "count    341.000000\n",
       "mean      48.537330\n",
       "std       66.643049\n",
       "min        6.975000\n",
       "25%       12.475000\n",
       "50%       26.000000\n",
       "75%       57.000000\n",
       "max      512.329200\n",
       "Name: Fare, dtype: float64"
      ]
     },
     "execution_count": 57,
     "metadata": {},
     "output_type": "execute_result"
    }
   ],
   "source": [
    "fare_data_survived['Fare'].describe()"
   ]
  },
  {
   "cell_type": "code",
   "execution_count": 58,
   "metadata": {
    "collapsed": false
   },
   "outputs": [
    {
     "data": {
      "text/plain": [
       "count    535.000000\n",
       "mean      22.696673\n",
       "std       31.589367\n",
       "min        4.012500\n",
       "25%        7.895800\n",
       "50%       10.500000\n",
       "75%       26.000000\n",
       "max      263.000000\n",
       "Name: Fare, dtype: float64"
      ]
     },
     "execution_count": 58,
     "metadata": {},
     "output_type": "execute_result"
    }
   ],
   "source": [
    "fare_data_non_survived['Fare'].describe()"
   ]
  },
  {
   "cell_type": "code",
   "execution_count": 59,
   "metadata": {
    "collapsed": true
   },
   "outputs": [],
   "source": [
    "################################### END 2 ###################################"
   ]
  },
  {
   "cell_type": "code",
   "execution_count": 60,
   "metadata": {
    "collapsed": true
   },
   "outputs": [],
   "source": [
    "################################### START 3 ###################################"
   ]
  },
  {
   "cell_type": "code",
   "execution_count": 61,
   "metadata": {
    "collapsed": false
   },
   "outputs": [],
   "source": [
    "# concat 2 above Series into one DataFrame\n",
    "df_fare = pd.concat([fare_data_survived, fare_data_non_survived])"
   ]
  },
  {
   "cell_type": "code",
   "execution_count": 62,
   "metadata": {
    "collapsed": false
   },
   "outputs": [
    {
     "data": {
      "text/html": [
       "<div>\n",
       "<table border=\"1\" class=\"dataframe\">\n",
       "  <thead>\n",
       "    <tr style=\"text-align: right;\">\n",
       "      <th></th>\n",
       "      <th>Fare</th>\n",
       "      <th>Survived</th>\n",
       "    </tr>\n",
       "  </thead>\n",
       "  <tbody>\n",
       "    <tr>\n",
       "      <th>1</th>\n",
       "      <td>71.2833</td>\n",
       "      <td>1</td>\n",
       "    </tr>\n",
       "    <tr>\n",
       "      <th>2</th>\n",
       "      <td>7.9250</td>\n",
       "      <td>1</td>\n",
       "    </tr>\n",
       "    <tr>\n",
       "      <th>3</th>\n",
       "      <td>53.1000</td>\n",
       "      <td>1</td>\n",
       "    </tr>\n",
       "    <tr>\n",
       "      <th>8</th>\n",
       "      <td>11.1333</td>\n",
       "      <td>1</td>\n",
       "    </tr>\n",
       "    <tr>\n",
       "      <th>9</th>\n",
       "      <td>30.0708</td>\n",
       "      <td>1</td>\n",
       "    </tr>\n",
       "  </tbody>\n",
       "</table>\n",
       "</div>"
      ],
      "text/plain": [
       "      Fare  Survived\n",
       "1  71.2833         1\n",
       "2   7.9250         1\n",
       "3  53.1000         1\n",
       "8  11.1333         1\n",
       "9  30.0708         1"
      ]
     },
     "execution_count": 62,
     "metadata": {},
     "output_type": "execute_result"
    }
   ],
   "source": [
    "df_fare.head()"
   ]
  },
  {
   "cell_type": "code",
   "execution_count": 63,
   "metadata": {
    "collapsed": true
   },
   "outputs": [],
   "source": [
    "# function to convert the survived digit to text\n",
    "# if survived digit = 1 --> text is 'Survived'\n",
    "# alse text is 'Non-survived'\n",
    "def survival_digit_to_text(digit):\n",
    "    if digit == 1:\n",
    "        return 'Survived'\n",
    "    else:\n",
    "        return 'Non-survived'"
   ]
  },
  {
   "cell_type": "code",
   "execution_count": 64,
   "metadata": {
    "collapsed": true
   },
   "outputs": [],
   "source": [
    "# apply function survival_digit_to_text for column 'Survived'\n",
    "# the text returned will be stored in new column 'Survival state'\n",
    "df_fare['Survival state'] = df_fare['Survived'].apply(survival_digit_to_text)\n",
    "del df_fare['Survived']"
   ]
  },
  {
   "cell_type": "code",
   "execution_count": 65,
   "metadata": {
    "collapsed": false
   },
   "outputs": [
    {
     "data": {
      "text/html": [
       "<div>\n",
       "<table border=\"1\" class=\"dataframe\">\n",
       "  <thead>\n",
       "    <tr style=\"text-align: right;\">\n",
       "      <th></th>\n",
       "      <th>Fare</th>\n",
       "      <th>Survival state</th>\n",
       "    </tr>\n",
       "  </thead>\n",
       "  <tbody>\n",
       "    <tr>\n",
       "      <th>1</th>\n",
       "      <td>71.2833</td>\n",
       "      <td>Survived</td>\n",
       "    </tr>\n",
       "    <tr>\n",
       "      <th>2</th>\n",
       "      <td>7.9250</td>\n",
       "      <td>Survived</td>\n",
       "    </tr>\n",
       "    <tr>\n",
       "      <th>3</th>\n",
       "      <td>53.1000</td>\n",
       "      <td>Survived</td>\n",
       "    </tr>\n",
       "    <tr>\n",
       "      <th>8</th>\n",
       "      <td>11.1333</td>\n",
       "      <td>Survived</td>\n",
       "    </tr>\n",
       "    <tr>\n",
       "      <th>9</th>\n",
       "      <td>30.0708</td>\n",
       "      <td>Survived</td>\n",
       "    </tr>\n",
       "  </tbody>\n",
       "</table>\n",
       "</div>"
      ],
      "text/plain": [
       "      Fare Survival state\n",
       "1  71.2833       Survived\n",
       "2   7.9250       Survived\n",
       "3  53.1000       Survived\n",
       "8  11.1333       Survived\n",
       "9  30.0708       Survived"
      ]
     },
     "execution_count": 65,
     "metadata": {},
     "output_type": "execute_result"
    }
   ],
   "source": [
    "df_fare.head()"
   ]
  },
  {
   "cell_type": "code",
   "execution_count": 66,
   "metadata": {
    "collapsed": false
   },
   "outputs": [
    {
     "data": {
      "text/plain": [
       "<matplotlib.axes._subplots.AxesSubplot at 0x1e7e2104d30>"
      ]
     },
     "execution_count": 66,
     "metadata": {},
     "output_type": "execute_result"
    },
    {
     "data": {
      "image/png": "[encoded data removed]",
      "text/plain": [
       "<matplotlib.figure.Figure at 0x1e7e228f780>"
      ]
     },
     "metadata": {},
     "output_type": "display_data"
    }
   ],
   "source": [
    "# display the Fare data in the box and whisker plot for each group\n",
    "df_fare.boxplot(column = 'Fare', by='Survival state', figsize=(8, 8))"
   ]
  },
  {
   "cell_type": "code",
   "execution_count": 67,
   "metadata": {
    "collapsed": true
   },
   "outputs": [],
   "source": [
    "# we can see that the box of SURVIVED group is above the NON-SURVIVED,\n",
    "# all the statistic values of the SURVIVED group is also greater than the NON-SURVIVED.\n",
    "# that means SURVIVED passengers spent more money for fare than the NON-SURIRVED."
   ]
  },
  {
   "cell_type": "code",
   "execution_count": 68,
   "metadata": {
    "collapsed": true
   },
   "outputs": [],
   "source": [
    "################################### END 3 ###################################"
   ]
  },
  {
   "cell_type": "markdown",
   "metadata": {},
   "source": [
    "## 2. Did survived passengers spend more money for Fare than the Non-survived?"
   ]
  },
  {
   "cell_type": "code",
   "execution_count": 69,
   "metadata": {
    "collapsed": true
   },
   "outputs": [],
   "source": [
    "# I will answer this question by performing the hypothesis testing to ensure \n",
    "\n",
    "# my hypothesis is: the SURVIVED group spent more money for fare than the NON-SURVIVED.\n",
    "\n",
    "# Ho: miu(s) <= miu(n)\n",
    "# Ha: miu(s) > miu(n)\n",
    "\n",
    "# with:\n",
    "    # miu(s) is the mean value of Fare of SURVIVED group\n",
    "    # miu(n) is the mean value of Fare of NON-SURVIVED group."
   ]
  },
  {
   "cell_type": "code",
   "execution_count": 70,
   "metadata": {
    "collapsed": false
   },
   "outputs": [],
   "source": [
    "# I assume that:\n",
    "    # - this testing data is random sample from the population.\n",
    "    # - the population data is normally distributed.\n",
    "    # - these 2 groups are independent.\n",
    "    \n",
    "# so now I will apply the T-TEST for INDEPENDENT MEANS to prove the hypothesis."
   ]
  },
  {
   "cell_type": "code",
   "execution_count": 71,
   "metadata": {
    "collapsed": true
   },
   "outputs": [],
   "source": [
    "# this function will calculate the mean, standard deviation and size of input data\n",
    "# then calculate the standard error (se)\n",
    "# finally return the t-statistic value\n",
    "\n",
    "# input parameter: values of 2 groups\n",
    "# output returned: the t-statistic value\n",
    "\n",
    "import math\n",
    "def t_statistic_of_independent_means(data1, data2):\n",
    "    try:\n",
    "        mean1, std1, size1 = data1.mean(), data1.std(), len(data1)\n",
    "        mean2, std2, size2 = data2.mean(), data2.std(), len(data2)\n",
    "        \n",
    "        se = math.sqrt( (std1*std1)/size1 + (std2*std2)/size2 )\n",
    "        df = size1 + size2 - 2\n",
    "        return round((mean2-mean1)/se, 2), df\n",
    "    except:\n",
    "        raise ValueError"
   ]
  },
  {
   "cell_type": "code",
   "execution_count": 72,
   "metadata": {
    "collapsed": false
   },
   "outputs": [],
   "source": [
    "# calculating t_statistic value and degree of freedom by\n",
    "# passing the Fare data of 2 groups into function t_statistic_of_independent_means\n",
    "t_statistic, df = t_statistic_of_independent_means(fare_data_non_survived['Fare'], fare_data_survived['Fare'])"
   ]
  },
  {
   "cell_type": "code",
   "execution_count": 73,
   "metadata": {
    "collapsed": false
   },
   "outputs": [
    {
     "name": "stdout",
     "output_type": "stream",
     "text": [
      "6.7 874\n"
     ]
    }
   ],
   "source": [
    "# print out the t_statistic and degree of freedom values\n",
    "print(t_statistic, df)"
   ]
  },
  {
   "cell_type": "code",
   "execution_count": 74,
   "metadata": {
    "collapsed": false
   },
   "outputs": [],
   "source": [
    "# at alpha level = 0.001 (one tailed test), df = 874\n",
    "# refer to the t-table, we will have t-critical:\n",
    "t_critical = 3.0996"
   ]
  },
  {
   "cell_type": "code",
   "execution_count": 75,
   "metadata": {
    "collapsed": true
   },
   "outputs": [],
   "source": [
    "#### CONCLUSION ####\n",
    "# since the t_critical = 3.0996 < t_statistic = 6.7\n",
    "# so we REJECT THE NULL at alpha level = 0.001, mean we are 99.9% confident to claim that:\n",
    "# the SURVIVED passengers spent significantly more money for the fare than the NON-SURVIVED."
   ]
  },
  {
   "cell_type": "code",
   "execution_count": null,
   "metadata": {
    "collapsed": true
   },
   "outputs": [],
   "source": []
  },
  {
   "cell_type": "code",
   "execution_count": null,
   "metadata": {
    "collapsed": true
   },
   "outputs": [],
   "source": []
  }
 ],
 "metadata": {
  "kernelspec": {
   "display_name": "Python 3",
   "language": "python",
   "name": "python3"
  },
  "language_info": {
   "codemirror_mode": {
    "name": "ipython",
    "version": 3
   },
   "file_extension": ".py",
   "mimetype": "text/x-python",
   "name": "python",
   "nbconvert_exporter": "python",
   "pygments_lexer": "ipython3",
   "version": "3.6.0"
  }
 },
 "nbformat": 4,
 "nbformat_minor": 2
}
