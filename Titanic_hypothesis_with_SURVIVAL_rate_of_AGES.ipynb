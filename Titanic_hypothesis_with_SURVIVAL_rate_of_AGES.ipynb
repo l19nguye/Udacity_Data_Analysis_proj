{
 "cells": [
  {
   "cell_type": "code",
   "execution_count": 8,
   "metadata": {
    "collapsed": true
   },
   "outputs": [],
   "source": [
    "# THIS ANALYZING IS FOCUSING ON THE AGE DATA "
   ]
  },
  {
   "cell_type": "code",
   "execution_count": 9,
   "metadata": {
    "collapsed": true
   },
   "outputs": [],
   "source": [
    "import pandas as pd\n",
    "from pandas import Series, DataFrame\n",
    "import matplotlib as plt\n",
    "%matplotlib inline\n",
    "import math"
   ]
  },
  {
   "cell_type": "code",
   "execution_count": 10,
   "metadata": {
    "collapsed": true
   },
   "outputs": [],
   "source": [
    "# reading data from csv file\n",
    "full_data = pd.read_csv('titanic-data.csv')"
   ]
  },
  {
   "cell_type": "code",
   "execution_count": 11,
   "metadata": {
    "collapsed": true
   },
   "outputs": [],
   "source": [
    "# focusing on the SURVIVED passengers\n",
    "full_data_survived = full_data[full_data['Survived'] == 1]"
   ]
  },
  {
   "cell_type": "markdown",
   "metadata": {},
   "source": [
    "## 1. Displaying the statistic values and box plot."
   ]
  },
  {
   "cell_type": "code",
   "execution_count": 12,
   "metadata": {
    "collapsed": false
   },
   "outputs": [
    {
     "data": {
      "text/html": [
       "<div>\n",
       "<table border=\"1\" class=\"dataframe\">\n",
       "  <thead>\n",
       "    <tr style=\"text-align: right;\">\n",
       "      <th></th>\n",
       "      <th>Age</th>\n",
       "    </tr>\n",
       "  </thead>\n",
       "  <tbody>\n",
       "    <tr>\n",
       "      <th>1</th>\n",
       "      <td>38.0</td>\n",
       "    </tr>\n",
       "    <tr>\n",
       "      <th>2</th>\n",
       "      <td>26.0</td>\n",
       "    </tr>\n",
       "    <tr>\n",
       "      <th>3</th>\n",
       "      <td>35.0</td>\n",
       "    </tr>\n",
       "    <tr>\n",
       "      <th>8</th>\n",
       "      <td>27.0</td>\n",
       "    </tr>\n",
       "    <tr>\n",
       "      <th>9</th>\n",
       "      <td>14.0</td>\n",
       "    </tr>\n",
       "  </tbody>\n",
       "</table>\n",
       "</div>"
      ],
      "text/plain": [
       "    Age\n",
       "1  38.0\n",
       "2  26.0\n",
       "3  35.0\n",
       "8  27.0\n",
       "9  14.0"
      ]
     },
     "execution_count": 12,
     "metadata": {},
     "output_type": "execute_result"
    }
   ],
   "source": [
    "# just extract the data of column 'Age'\n",
    "# remove all NaN values\n",
    "age_data_survived = full_data_survived['Age'].dropna()\n",
    "\n",
    "# create DataFrame\n",
    "df_age_data_survived = pd.DataFrame( data=age_data_survived, columns=['Age'])\n",
    "\n",
    "# view the first 5 records of the DataFrame\n",
    "df_age_data_survived.head()"
   ]
  },
  {
   "cell_type": "code",
   "execution_count": 13,
   "metadata": {
    "collapsed": false
   },
   "outputs": [
    {
     "data": {
      "text/html": [
       "<div>\n",
       "<table border=\"1\" class=\"dataframe\">\n",
       "  <thead>\n",
       "    <tr style=\"text-align: right;\">\n",
       "      <th></th>\n",
       "      <th>Age</th>\n",
       "    </tr>\n",
       "  </thead>\n",
       "  <tbody>\n",
       "    <tr>\n",
       "      <th>count</th>\n",
       "      <td>290.000000</td>\n",
       "    </tr>\n",
       "    <tr>\n",
       "      <th>mean</th>\n",
       "      <td>28.343690</td>\n",
       "    </tr>\n",
       "    <tr>\n",
       "      <th>std</th>\n",
       "      <td>14.950952</td>\n",
       "    </tr>\n",
       "    <tr>\n",
       "      <th>min</th>\n",
       "      <td>0.420000</td>\n",
       "    </tr>\n",
       "    <tr>\n",
       "      <th>25%</th>\n",
       "      <td>19.000000</td>\n",
       "    </tr>\n",
       "    <tr>\n",
       "      <th>50%</th>\n",
       "      <td>28.000000</td>\n",
       "    </tr>\n",
       "    <tr>\n",
       "      <th>75%</th>\n",
       "      <td>36.000000</td>\n",
       "    </tr>\n",
       "    <tr>\n",
       "      <th>max</th>\n",
       "      <td>80.000000</td>\n",
       "    </tr>\n",
       "  </tbody>\n",
       "</table>\n",
       "</div>"
      ],
      "text/plain": [
       "              Age\n",
       "count  290.000000\n",
       "mean    28.343690\n",
       "std     14.950952\n",
       "min      0.420000\n",
       "25%     19.000000\n",
       "50%     28.000000\n",
       "75%     36.000000\n",
       "max     80.000000"
      ]
     },
     "execution_count": 13,
     "metadata": {},
     "output_type": "execute_result"
    }
   ],
   "source": [
    "# take a look the statistic values \n",
    "df_age_data_survived.describe()"
   ]
  },
  {
   "cell_type": "code",
   "execution_count": 14,
   "metadata": {
    "collapsed": false
   },
   "outputs": [
    {
     "data": {
      "text/plain": [
       "<matplotlib.axes._subplots.AxesSubplot at 0x168d6a8af28>"
      ]
     },
     "execution_count": 14,
     "metadata": {},
     "output_type": "execute_result"
    },
    {
     "data": {
      "image/png": "[encoded data removed]",
      "text/plain": [
       "<matplotlib.figure.Figure at 0x168d3d7b0f0>"
      ]
     },
     "metadata": {},
     "output_type": "display_data"
    }
   ],
   "source": [
    "# display the boxplot\n",
    "df_age_data_survived.boxplot()"
   ]
  },
  {
   "cell_type": "code",
   "execution_count": 15,
   "metadata": {
    "collapsed": true
   },
   "outputs": [],
   "source": [
    "# From the box & whisker plot, we can see that the most of values fall between the 1st and the 3rd Quartile, \n",
    "# that means between the ages of 19 and 36. "
   ]
  },
  {
   "cell_type": "code",
   "execution_count": 16,
   "metadata": {
    "collapsed": true
   },
   "outputs": [],
   "source": [
    "# I guess that passengers whose ages fall in that interval would have more chance to survive than the other.\n",
    "\n",
    "# I'm going to split data into 2 groups:\n",
    "#    - group A: ages in [19, 36] (means: 19 <= age <= 36)\n",
    "#    - group B: ages NOT in [19, 36] (means: age < 19 AND age > 36)\n",
    "\n",
    "# My hypothesis here is: the survival rate of group A is higher than the group B. So i have:\n",
    "# Ho: p(A) <= p(B)\n",
    "# Ha: p(A) > p(B)\n",
    "\n",
    "# with:\n",
    "#  - p(A) is the survival rate of group A.\n",
    "#  - p(B) is the survival rate of group B.\n",
    "\n",
    "# So now I'm going to perform the Z-test with two proportion in order to prove my hypothesis correct."
   ]
  },
  {
   "cell_type": "markdown",
   "metadata": {},
   "source": [
    "## 2. Did the passengers whose ages in [19, 36] have more chance to survive than the others?"
   ]
  },
  {
   "cell_type": "code",
   "execution_count": 17,
   "metadata": {
    "collapsed": true
   },
   "outputs": [],
   "source": [
    "# Here are steps I will do now:\n",
    "    \n",
    "# 1. Split raw data into 2 data groups A and B. (just take data of columns Age and Survived, remove all NaN values)\n",
    "\n",
    "# 2. For data group A: calculating the Number of all passenger (call n1) and the Number of survived passengers (call x1)\n",
    "#    For data group B: calculating the Number of all passenger (call n2) and the Number of survived passengers (call x2)\n",
    "#    Calculating the survival proportion of each group:\n",
    "    \n",
    "#     p(A) = x1 / n1\n",
    "#     p(B) = x2 / n2\n",
    "#   and p_bar = (x1+x2)/(n1+n2)\n",
    "\n",
    "# 3. Perform Hypothesis testing."
   ]
  },
  {
   "cell_type": "code",
   "execution_count": 18,
   "metadata": {
    "collapsed": true
   },
   "outputs": [],
   "source": [
    "######################## START 1 ##########################"
   ]
  },
  {
   "cell_type": "code",
   "execution_count": 19,
   "metadata": {
    "collapsed": false
   },
   "outputs": [],
   "source": [
    "# just extract data of columns Age and Survived\n",
    "# remove all NaN values\n",
    "age_n_survived_full_data = full_data[['Age','Survived']].dropna()"
   ]
  },
  {
   "cell_type": "code",
   "execution_count": 20,
   "metadata": {
    "collapsed": true
   },
   "outputs": [],
   "source": [
    "# function will split data into 2 groups A and B\n",
    "# if 19 <= age <= 36 --> group A\n",
    "# else group B\n",
    "\n",
    "def grouping_age(value):\n",
    "    try:\n",
    "        if value >= 19 and value <= 36:\n",
    "            return 'A'\n",
    "        else:\n",
    "            return 'B'\n",
    "    except:\n",
    "        raise ValueError"
   ]
  },
  {
   "cell_type": "code",
   "execution_count": 21,
   "metadata": {
    "collapsed": false
   },
   "outputs": [],
   "source": [
    "# create new column 'GROUP' then apply function grouping_age for the column Age\n",
    "age_n_survived_full_data['GROUP'] = age_n_survived_full_data['Age'].apply(grouping_age)"
   ]
  },
  {
   "cell_type": "code",
   "execution_count": 22,
   "metadata": {
    "collapsed": false
   },
   "outputs": [
    {
     "data": {
      "text/html": [
       "<div>\n",
       "<table border=\"1\" class=\"dataframe\">\n",
       "  <thead>\n",
       "    <tr style=\"text-align: right;\">\n",
       "      <th></th>\n",
       "      <th>Age</th>\n",
       "      <th>Survived</th>\n",
       "      <th>GROUP</th>\n",
       "    </tr>\n",
       "  </thead>\n",
       "  <tbody>\n",
       "    <tr>\n",
       "      <th>0</th>\n",
       "      <td>22.0</td>\n",
       "      <td>0</td>\n",
       "      <td>A</td>\n",
       "    </tr>\n",
       "    <tr>\n",
       "      <th>1</th>\n",
       "      <td>38.0</td>\n",
       "      <td>1</td>\n",
       "      <td>B</td>\n",
       "    </tr>\n",
       "    <tr>\n",
       "      <th>2</th>\n",
       "      <td>26.0</td>\n",
       "      <td>1</td>\n",
       "      <td>A</td>\n",
       "    </tr>\n",
       "    <tr>\n",
       "      <th>3</th>\n",
       "      <td>35.0</td>\n",
       "      <td>1</td>\n",
       "      <td>A</td>\n",
       "    </tr>\n",
       "    <tr>\n",
       "      <th>4</th>\n",
       "      <td>35.0</td>\n",
       "      <td>0</td>\n",
       "      <td>A</td>\n",
       "    </tr>\n",
       "  </tbody>\n",
       "</table>\n",
       "</div>"
      ],
      "text/plain": [
       "    Age  Survived GROUP\n",
       "0  22.0         0     A\n",
       "1  38.0         1     B\n",
       "2  26.0         1     A\n",
       "3  35.0         1     A\n",
       "4  35.0         0     A"
      ]
     },
     "execution_count": 22,
     "metadata": {},
     "output_type": "execute_result"
    }
   ],
   "source": [
    "age_n_survived_full_data.head()"
   ]
  },
  {
   "cell_type": "code",
   "execution_count": 23,
   "metadata": {
    "collapsed": false
   },
   "outputs": [
    {
     "name": "stdout",
     "output_type": "stream",
     "text": [
      "714\n"
     ]
    }
   ],
   "source": [
    "print(len(age_n_survived_full_data))"
   ]
  },
  {
   "cell_type": "code",
   "execution_count": 24,
   "metadata": {
    "collapsed": true
   },
   "outputs": [],
   "source": [
    "# new DataFrames for the data of group A and B\n",
    "# just take the column Survived which is survival status\n",
    "df_group_A = age_n_survived_full_data[ age_n_survived_full_data['GROUP'] == 'A' ]\n",
    "df_group_B = age_n_survived_full_data[ age_n_survived_full_data['GROUP'] == 'B' ]"
   ]
  },
  {
   "cell_type": "code",
   "execution_count": 25,
   "metadata": {
    "collapsed": true
   },
   "outputs": [],
   "source": [
    "######################## END 1 ##########################"
   ]
  },
  {
   "cell_type": "code",
   "execution_count": 26,
   "metadata": {
    "collapsed": true
   },
   "outputs": [],
   "source": [
    "######################## START 2 ########################"
   ]
  },
  {
   "cell_type": "code",
   "execution_count": 27,
   "metadata": {
    "collapsed": false
   },
   "outputs": [
    {
     "name": "stdout",
     "output_type": "stream",
     "text": [
      "380 148\n"
     ]
    }
   ],
   "source": [
    "# the Number of all passenger of group A: n1\n",
    "n1 = len(df_group_A)\n",
    "\n",
    "# the Number of survived passengers of group A: x1\n",
    "x1 = len(df_group_A[ df_group_A['Survived'] == 1 ])\n",
    "\n",
    "print(n1, x1)"
   ]
  },
  {
   "cell_type": "code",
   "execution_count": 28,
   "metadata": {
    "collapsed": false
   },
   "outputs": [
    {
     "name": "stdout",
     "output_type": "stream",
     "text": [
      "334 142\n"
     ]
    }
   ],
   "source": [
    "# the Number of all passenger of group B: n2\n",
    "n2 = len(df_group_B)\n",
    "\n",
    "# the Number of survived passengers of group B: x2\n",
    "x2 = len(df_group_B[ df_group_B['Survived'] == 1 ])\n",
    "\n",
    "print(n2, x2)"
   ]
  },
  {
   "cell_type": "code",
   "execution_count": 29,
   "metadata": {
    "collapsed": false
   },
   "outputs": [
    {
     "name": "stdout",
     "output_type": "stream",
     "text": [
      "0.3894736842105263 0.4251497005988024 0.4061624649859944\n"
     ]
    }
   ],
   "source": [
    "# calculating p(A), p(B), p_bar\n",
    "p_hat_A = x1/n1\n",
    "p_hat_B = x2/n2\n",
    "p_bar = (x1+x2)/(n1+n2)\n",
    "\n",
    "print(p_hat_A, p_hat_B, p_bar)"
   ]
  },
  {
   "cell_type": "code",
   "execution_count": 30,
   "metadata": {
    "collapsed": true
   },
   "outputs": [],
   "source": [
    "######################## END 2 ##########################"
   ]
  },
  {
   "cell_type": "code",
   "execution_count": 31,
   "metadata": {
    "collapsed": true
   },
   "outputs": [],
   "source": [
    "######################## START 3 ########################"
   ]
  },
  {
   "cell_type": "code",
   "execution_count": 32,
   "metadata": {
    "collapsed": true
   },
   "outputs": [],
   "source": [
    "# Before perform the hypothesis testing, I assume that:\n",
    "#    - the sample data had been chosen randomly.\n",
    "#    - all passengers had equaly chance to survive so they are independent samples.\n",
    "\n",
    "# As we see the size of samples are n1 = 380 and n2 = 334, they are greater than 30 and are large samples \n",
    "# so the population distribution would approximately normal.\n",
    "# With the assumption and large samples, i will perform the Z-test with two proportion now.    "
   ]
  },
  {
   "cell_type": "code",
   "execution_count": 33,
   "metadata": {
    "collapsed": false
   },
   "outputs": [
    {
     "name": "stdout",
     "output_type": "stream",
     "text": [
      "-0.97\n"
     ]
    }
   ],
   "source": [
    "# calculating the z_statistic value\n",
    "z_statictic = round((p_hat_A - p_hat_B)/math.sqrt(p_bar*(1-p_bar)*(1/n1 + 1/n2)), 2)\n",
    "print(z_statictic)"
   ]
  },
  {
   "cell_type": "code",
   "execution_count": 34,
   "metadata": {
    "collapsed": true
   },
   "outputs": [],
   "source": [
    "# with Z-statistic value is -0.97, refer to the Z-table i have p-value\n",
    "p_value = 0.166"
   ]
  },
  {
   "cell_type": "code",
   "execution_count": 35,
   "metadata": {
    "collapsed": true
   },
   "outputs": [],
   "source": [
    "###################### CONCLUSION ######################"
   ]
  },
  {
   "cell_type": "code",
   "execution_count": 36,
   "metadata": {
    "collapsed": true
   },
   "outputs": [],
   "source": [
    "# At alpha level = 0.95, since p_value = 0.166 < 0.95 so we FAIL TO REJECT THE NULL.\n",
    "# That means the passengers whose ages in [19, 36] do NOT have the survival rate higher than the rest.\n",
    "# The box & whisker plot shows that most of survived people have ages in [19, 36] but actually there were 380 passengers like\n",
    "# them among total 714 passengers on Titanic, the survival rate of theirs was high is easy to understand. \n",
    "# It does NOT guarantee that people whose ages in [19, 36] would have more chance to survive in other disaters like Titanic."
   ]
  },
  {
   "cell_type": "code",
   "execution_count": 37,
   "metadata": {
    "collapsed": true
   },
   "outputs": [],
   "source": [
    "######################## END 3 ########################"
   ]
  },
  {
   "cell_type": "code",
   "execution_count": null,
   "metadata": {
    "collapsed": true
   },
   "outputs": [],
   "source": []
  }
 ],
 "metadata": {
  "kernelspec": {
   "display_name": "Python 3",
   "language": "python",
   "name": "python3"
  },
  "language_info": {
   "codemirror_mode": {
    "name": "ipython",
    "version": 3
   },
   "file_extension": ".py",
   "mimetype": "text/x-python",
   "name": "python",
   "nbconvert_exporter": "python",
   "pygments_lexer": "ipython3",
   "version": "3.6.0"
  }
 },
 "nbformat": 4,
 "nbformat_minor": 2
}
