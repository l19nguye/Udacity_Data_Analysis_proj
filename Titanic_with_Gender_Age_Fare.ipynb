{
 "cells": [
  {
   "cell_type": "code",
   "execution_count": 543,
   "metadata": {
    "collapsed": true
   },
   "outputs": [],
   "source": [
    "import pandas as pd\n",
    "import numpy as np\n",
    "from pandas import Series, DataFrame\n",
    "import matplotlib.pyplot as plt\n",
    "%matplotlib inline\n",
    "import math"
   ]
  },
  {
   "cell_type": "markdown",
   "metadata": {},
   "source": [
    "The following are some functions to:\n",
    "    - printing out some overview informations of a DataFrame (similar to function info() of Pandas)\n",
    "        + how many columns does it have?\n",
    "        + how many rows does it have?\n",
    "        + how many valid data rows? how many invalid data rows?\n",
    "        + what are valid values of each column?\n",
    "    - extract the VALID and INVALID data rows of each column."
   ]
  },
  {
   "cell_type": "code",
   "execution_count": 964,
   "metadata": {
    "collapsed": false
   },
   "outputs": [],
   "source": [
    "# this function will extract the valid data of each column name\n",
    "\n",
    "# input parameters: \n",
    "# the first parameter should be a DataFrame\n",
    "# the second parameter should be a string of column name\n",
    "\n",
    "# output:\n",
    "# return a DataFrame or Series which contains all valid rows of the column\n",
    "\n",
    "def extract_valid_value(data, column_name):\n",
    "    if column_name == 'PassengerId':\n",
    "        return data[ data['PassengerId'] != None]\n",
    "    elif column_name == 'Survived':\n",
    "        return data[ (data['Survived'] == 0) | (data['Survived'] == 1) ]\n",
    "    elif column_name == 'Name':\n",
    "        return data[ data['Name'] != None ]\n",
    "    elif column_name == 'Sex':\n",
    "        return data[ (data['Sex'] == 'male') | (data['Sex'] == 'female') ]\n",
    "    elif column_name == 'Age':\n",
    "        return data[ (data['Age'] > 0) & (data['Age'] < 123) ]\n",
    "    elif column_name == 'SibSp':\n",
    "        return data[ (data['SibSp'] >= 0) & (data['SibSp'] <= 8) ]\n",
    "    elif column_name == 'Parch':\n",
    "        return data[ (data['Parch'] >= 0) & (data['Parch'] <= 6) ]\n",
    "    elif column_name == 'Ticket':\n",
    "        return data[ data['Ticket'] != None ]\n",
    "    elif column_name == 'Fare':\n",
    "        return data[ data['Fare'] > 0 ]\n",
    "    elif column_name == 'Cabin':\n",
    "        return data[ data['Cabin'] != None ]\n",
    "    elif column_name == 'Embarked':\n",
    "        return data[ (data['Embarked'] != None) &  (pd.isnull(data['Embarked']) == False)]\n",
    "    elif column_name == 'Pclass':\n",
    "        return data[ (data['Pclass'] == 1) | (data['Pclass'] == 2) | (data['Pclass'] == 3)  ]\n",
    "    else:\n",
    "        return None"
   ]
  },
  {
   "cell_type": "code",
   "execution_count": 965,
   "metadata": {
    "collapsed": false
   },
   "outputs": [],
   "source": [
    "# extract the invalid rows in column column_name of data\n",
    "def extract_invalid_data(data, column_name):\n",
    "    column_valid_data = data.isin(extract_valid_value(data, column_name))[column_name]\n",
    "    return data[ column_valid_data == False ]"
   ]
  },
  {
   "cell_type": "code",
   "execution_count": 966,
   "metadata": {
    "collapsed": false
   },
   "outputs": [],
   "source": [
    "# function to display some characteristic of values in the data column\n",
    "# it is similar to info() function of DataFrame but the messages are more friendly.\n",
    "\n",
    "# if the column name is one of ['Survived', 'Pclass', 'Sex', 'SibSp', 'Parch', 'Embarked']\n",
    "# then just display the unique values.\n",
    "\n",
    "# if the column name is one of ['Name', 'Ticket', 'Cabin']\n",
    "# then the data values are free texts.\n",
    "\n",
    "# if the column name is one of ['Age', 'Fare']\n",
    "# then the data values fall in the interval of minimum and maximum values\n",
    "\n",
    "def get_characteristic_values(data, column_name):\n",
    "    columns_categorical_data = ['Survived', 'Pclass', 'Sex', 'SibSp', 'Parch', 'Embarked']\n",
    "    columns_text_data = ['Name', 'Ticket', 'Cabin']\n",
    "    columns_numeric_data = ['Age', 'Fare']\n",
    "    \n",
    "    if column_name in columns_categorical_data:\n",
    "        unique_values = set(data[column_name].dropna())\n",
    "        print(\"   Data values: \", unique_values)\n",
    "    elif column_name in columns_text_data:\n",
    "        print(\"   Data values: free text.\")\n",
    "    elif column_name in columns_numeric_data:\n",
    "        min_value = min(data[column_name])\n",
    "        max_value = max(data[column_name])\n",
    "        print(\"   Data values: in range (\", min_value, \", \", max_value, \")\")\n",
    "    elif column_name == 'PassengerId':\n",
    "        print(\"\")\n",
    "    else:\n",
    "        print(\"Invalid column name\")    "
   ]
  },
  {
   "cell_type": "code",
   "execution_count": 967,
   "metadata": {
    "collapsed": true
   },
   "outputs": [],
   "source": [
    "# this function will print out some overview informations of data:\n",
    "\n",
    "# data type of data\n",
    "# how many columns that data has\n",
    "# column names of data\n",
    "# how many rows the data has\n",
    "# with each column: how many row it has totally, how many are valid, how many are invalid\n",
    "\n",
    "def data_overviewing(data):\n",
    "    print(\"Type of data: \", type(data))\n",
    "    print(\"Number of columns: \", len(data.columns))\n",
    "    print(\"Column names: \", data.columns)\n",
    "    print(\"Number of rows of full data: \", len(data), \" rows.\" )\n",
    "        \n",
    "    for column_name in data.columns:\n",
    "        number_of_rows = len(data[column_name])\n",
    "        number_of_valid_rows = len(extract_valid_value(data, column_name))\n",
    "        number_of_invalid_rows = number_of_rows - number_of_valid_rows\n",
    "        print(\"Column \" + column_name + \" has: totally \", number_of_rows, \" rows, \", number_of_valid_rows, \" rows are valid, \", number_of_invalid_rows, \" rows are invalid.\")        \n",
    "        get_characteristic_values(data, column_name)"
   ]
  },
  {
   "cell_type": "code",
   "execution_count": 968,
   "metadata": {
    "collapsed": true
   },
   "outputs": [],
   "source": [
    "# reading data from csv file\n",
    "full_data = pd.read_csv('titanic-data.csv')"
   ]
  },
  {
   "cell_type": "code",
   "execution_count": 969,
   "metadata": {
    "collapsed": false
   },
   "outputs": [
    {
     "data": {
      "text/html": [
       "<div>\n",
       "<table border=\"1\" class=\"dataframe\">\n",
       "  <thead>\n",
       "    <tr style=\"text-align: right;\">\n",
       "      <th></th>\n",
       "      <th>PassengerId</th>\n",
       "      <th>Survived</th>\n",
       "      <th>Pclass</th>\n",
       "      <th>Name</th>\n",
       "      <th>Sex</th>\n",
       "      <th>Age</th>\n",
       "      <th>SibSp</th>\n",
       "      <th>Parch</th>\n",
       "      <th>Ticket</th>\n",
       "      <th>Fare</th>\n",
       "      <th>Cabin</th>\n",
       "      <th>Embarked</th>\n",
       "    </tr>\n",
       "  </thead>\n",
       "  <tbody>\n",
       "    <tr>\n",
       "      <th>0</th>\n",
       "      <td>1</td>\n",
       "      <td>0</td>\n",
       "      <td>3</td>\n",
       "      <td>Braund, Mr. Owen Harris</td>\n",
       "      <td>male</td>\n",
       "      <td>22.0</td>\n",
       "      <td>1</td>\n",
       "      <td>0</td>\n",
       "      <td>A/5 21171</td>\n",
       "      <td>7.2500</td>\n",
       "      <td>NaN</td>\n",
       "      <td>S</td>\n",
       "    </tr>\n",
       "    <tr>\n",
       "      <th>1</th>\n",
       "      <td>2</td>\n",
       "      <td>1</td>\n",
       "      <td>1</td>\n",
       "      <td>Cumings, Mrs. John Bradley (Florence Briggs Th...</td>\n",
       "      <td>female</td>\n",
       "      <td>38.0</td>\n",
       "      <td>1</td>\n",
       "      <td>0</td>\n",
       "      <td>PC 17599</td>\n",
       "      <td>71.2833</td>\n",
       "      <td>C85</td>\n",
       "      <td>C</td>\n",
       "    </tr>\n",
       "    <tr>\n",
       "      <th>2</th>\n",
       "      <td>3</td>\n",
       "      <td>1</td>\n",
       "      <td>3</td>\n",
       "      <td>Heikkinen, Miss. Laina</td>\n",
       "      <td>female</td>\n",
       "      <td>26.0</td>\n",
       "      <td>0</td>\n",
       "      <td>0</td>\n",
       "      <td>STON/O2. 3101282</td>\n",
       "      <td>7.9250</td>\n",
       "      <td>NaN</td>\n",
       "      <td>S</td>\n",
       "    </tr>\n",
       "    <tr>\n",
       "      <th>3</th>\n",
       "      <td>4</td>\n",
       "      <td>1</td>\n",
       "      <td>1</td>\n",
       "      <td>Futrelle, Mrs. Jacques Heath (Lily May Peel)</td>\n",
       "      <td>female</td>\n",
       "      <td>35.0</td>\n",
       "      <td>1</td>\n",
       "      <td>0</td>\n",
       "      <td>113803</td>\n",
       "      <td>53.1000</td>\n",
       "      <td>C123</td>\n",
       "      <td>S</td>\n",
       "    </tr>\n",
       "    <tr>\n",
       "      <th>4</th>\n",
       "      <td>5</td>\n",
       "      <td>0</td>\n",
       "      <td>3</td>\n",
       "      <td>Allen, Mr. William Henry</td>\n",
       "      <td>male</td>\n",
       "      <td>35.0</td>\n",
       "      <td>0</td>\n",
       "      <td>0</td>\n",
       "      <td>373450</td>\n",
       "      <td>8.0500</td>\n",
       "      <td>NaN</td>\n",
       "      <td>S</td>\n",
       "    </tr>\n",
       "  </tbody>\n",
       "</table>\n",
       "</div>"
      ],
      "text/plain": [
       "   PassengerId  Survived  Pclass  \\\n",
       "0            1         0       3   \n",
       "1            2         1       1   \n",
       "2            3         1       3   \n",
       "3            4         1       1   \n",
       "4            5         0       3   \n",
       "\n",
       "                                                Name     Sex   Age  SibSp  \\\n",
       "0                            Braund, Mr. Owen Harris    male  22.0      1   \n",
       "1  Cumings, Mrs. John Bradley (Florence Briggs Th...  female  38.0      1   \n",
       "2                             Heikkinen, Miss. Laina  female  26.0      0   \n",
       "3       Futrelle, Mrs. Jacques Heath (Lily May Peel)  female  35.0      1   \n",
       "4                           Allen, Mr. William Henry    male  35.0      0   \n",
       "\n",
       "   Parch            Ticket     Fare Cabin Embarked  \n",
       "0      0         A/5 21171   7.2500   NaN        S  \n",
       "1      0          PC 17599  71.2833   C85        C  \n",
       "2      0  STON/O2. 3101282   7.9250   NaN        S  \n",
       "3      0            113803  53.1000  C123        S  \n",
       "4      0            373450   8.0500   NaN        S  "
      ]
     },
     "execution_count": 969,
     "metadata": {},
     "output_type": "execute_result"
    }
   ],
   "source": [
    "# printing out the first 5 rows of full data\n",
    "full_data.head()"
   ]
  },
  {
   "cell_type": "markdown",
   "metadata": {},
   "source": [
    "In here I will take a look into the full data to find whether there is any invalid data in the dataset, if there is I need to be noticed for analyzing later."
   ]
  },
  {
   "cell_type": "code",
   "execution_count": 970,
   "metadata": {
    "collapsed": false
   },
   "outputs": [
    {
     "name": "stdout",
     "output_type": "stream",
     "text": [
      "Type of data:  <class 'pandas.core.frame.DataFrame'>\n",
      "Number of columns:  12\n",
      "Column names:  Index(['PassengerId', 'Survived', 'Pclass', 'Name', 'Sex', 'Age', 'SibSp',\n",
      "       'Parch', 'Ticket', 'Fare', 'Cabin', 'Embarked'],\n",
      "      dtype='object')\n",
      "Number of rows of full data:  891  rows.\n",
      "Column PassengerId has: totally  891  rows,  891  rows are valid,  0  rows are invalid.\n",
      "\n",
      "Column Survived has: totally  891  rows,  891  rows are valid,  0  rows are invalid.\n",
      "   Data values:  {0, 1}\n",
      "Column Pclass has: totally  891  rows,  891  rows are valid,  0  rows are invalid.\n",
      "   Data values:  {1, 2, 3}\n",
      "Column Name has: totally  891  rows,  891  rows are valid,  0  rows are invalid.\n",
      "   Data values: free text.\n",
      "Column Sex has: totally  891  rows,  891  rows are valid,  0  rows are invalid.\n",
      "   Data values:  {'female', 'male'}\n",
      "Column Age has: totally  891  rows,  714  rows are valid,  177  rows are invalid.\n",
      "   Data values: in range ( 0.42 ,  80.0 )\n",
      "Column SibSp has: totally  891  rows,  891  rows are valid,  0  rows are invalid.\n",
      "   Data values:  {0, 1, 2, 3, 4, 5, 8}\n",
      "Column Parch has: totally  891  rows,  891  rows are valid,  0  rows are invalid.\n",
      "   Data values:  {0, 1, 2, 3, 4, 5, 6}\n",
      "Column Ticket has: totally  891  rows,  891  rows are valid,  0  rows are invalid.\n",
      "   Data values: free text.\n",
      "Column Fare has: totally  891  rows,  876  rows are valid,  15  rows are invalid.\n",
      "   Data values: in range ( 0.0 ,  512.3292 )\n",
      "Column Cabin has: totally  891  rows,  891  rows are valid,  0  rows are invalid.\n",
      "   Data values: free text.\n",
      "Column Embarked has: totally  891  rows,  889  rows are valid,  2  rows are invalid.\n",
      "   Data values:  {'Q', 'C', 'S'}\n"
     ]
    }
   ],
   "source": [
    "data_overviewing(full_data)"
   ]
  },
  {
   "cell_type": "markdown",
   "metadata": {},
   "source": [
    "Above information tells that full data has 12 columns, they are 'PassengerId', 'Survived', 'Pclass', 'Name', 'Sex', 'Age', 'SibSp', 'Parch', 'Ticket', 'Fare', 'Cabin', 'Embarked'. There are totally 891 data rows."
   ]
  },
  {
   "cell_type": "markdown",
   "metadata": {},
   "source": [
    "Column Survived has 2 values 0 or 1. All data rows are valid. No invalid rows found."
   ]
  },
  {
   "cell_type": "markdown",
   "metadata": {},
   "source": [
    "Column Pclass has 2 values 1, 2 or 3. All data rows are valid. No invalid rows found."
   ]
  },
  {
   "cell_type": "markdown",
   "metadata": {},
   "source": [
    "Column Name's data are free text. All data rows are valid. No invalid rows found."
   ]
  },
  {
   "cell_type": "markdown",
   "metadata": {},
   "source": [
    "Column Sex has 2 values 'male' or 'female'. All data rows are valid. No invalid rows found."
   ]
  },
  {
   "cell_type": "markdown",
   "metadata": {},
   "source": [
    "Column Age has values fall in range [0.42, 80.0]. There are 714 valid rows and 177 invalid rows found."
   ]
  },
  {
   "cell_type": "markdown",
   "metadata": {},
   "source": [
    "Column SibSp has 7 values: 0, 1, 2, 3, 4, 5 or 8. All data rows are valid. No invalid rows found."
   ]
  },
  {
   "cell_type": "markdown",
   "metadata": {},
   "source": [
    "Column Parch has 7 values: 0, 1, 2, 3, 4, 5 or 6. All data rows are valid. No invalid rows found."
   ]
  },
  {
   "cell_type": "markdown",
   "metadata": {},
   "source": [
    "Column Ticket's data are free text. All data rows are valid. No invalid rows found."
   ]
  },
  {
   "cell_type": "markdown",
   "metadata": {},
   "source": [
    "Column Fare's values fall in range [0.0, 512.3292]. There are 876 valid rows and 15 invalid rows found."
   ]
  },
  {
   "cell_type": "markdown",
   "metadata": {},
   "source": [
    "Column Cabin's data are free text. All data rows are valid. No invalid rows found."
   ]
  },
  {
   "cell_type": "markdown",
   "metadata": {},
   "source": [
    "Column Embarked has 3 values 1, 2 or 3. There are 889 valid rows and 2 invalid rows found."
   ]
  },
  {
   "cell_type": "markdown",
   "metadata": {},
   "source": [
    "There are 3 columns 'Age', 'Fare'  and 'Embarked' have invalid data rows, so if I work with data of any one of those columns, I need to exclude the invalid rows from the data.\n",
    "If the invalid values are NaN, i could use function dropna() of Pandas to remove them.\n",
    "Or instead of that way, i could just extract the valid data rows only so I will not need to care about the invalid rows."
   ]
  },
  {
   "cell_type": "markdown",
   "metadata": {},
   "source": [
    "# 1. ANALYZING WITH GENDER"
   ]
  },
  {
   "cell_type": "markdown",
   "metadata": {},
   "source": [
    "In this analyzing, I will focus on how the gender aspect would effect the survival rate of passengers."
   ]
  },
  {
   "cell_type": "markdown",
   "metadata": {},
   "source": [
    "My questions here are:"
   ]
  },
  {
   "cell_type": "markdown",
   "metadata": {},
   "source": [
    "1.Which kind of gender was more survived in Titanic disaster?"
   ]
  },
  {
   "cell_type": "markdown",
   "metadata": {},
   "source": [
    "In order to answer this question, I will split data into 2 groups: Survived and Non-Survived."
   ]
  },
  {
   "cell_type": "markdown",
   "metadata": {},
   "source": [
    "With the data of Survived group, display the bar chart to compare the number of Male and Female."
   ]
  },
  {
   "cell_type": "markdown",
   "metadata": {},
   "source": [
    "2.Would it have more chance to survived than the other?"
   ]
  },
  {
   "cell_type": "markdown",
   "metadata": {},
   "source": [
    "I will use the answer of the 1st question to make the hypothesis and then prove it."
   ]
  },
  {
   "cell_type": "markdown",
   "metadata": {},
   "source": [
    "## 1.1 Which kind of gender was more survived in Titanic disaster?"
   ]
  },
  {
   "cell_type": "markdown",
   "metadata": {},
   "source": [
    "### 1.1.1 Extract column data which I'm focusing: Survived and Sex columns"
   ]
  },
  {
   "cell_type": "code",
   "execution_count": 885,
   "metadata": {
    "collapsed": false
   },
   "outputs": [
    {
     "data": {
      "text/html": [
       "<div>\n",
       "<table border=\"1\" class=\"dataframe\">\n",
       "  <thead>\n",
       "    <tr style=\"text-align: right;\">\n",
       "      <th></th>\n",
       "      <th>Survived</th>\n",
       "      <th>Sex</th>\n",
       "    </tr>\n",
       "  </thead>\n",
       "  <tbody>\n",
       "    <tr>\n",
       "      <th>1</th>\n",
       "      <td>1</td>\n",
       "      <td>female</td>\n",
       "    </tr>\n",
       "    <tr>\n",
       "      <th>2</th>\n",
       "      <td>1</td>\n",
       "      <td>female</td>\n",
       "    </tr>\n",
       "    <tr>\n",
       "      <th>3</th>\n",
       "      <td>1</td>\n",
       "      <td>female</td>\n",
       "    </tr>\n",
       "    <tr>\n",
       "      <th>8</th>\n",
       "      <td>1</td>\n",
       "      <td>female</td>\n",
       "    </tr>\n",
       "    <tr>\n",
       "      <th>9</th>\n",
       "      <td>1</td>\n",
       "      <td>female</td>\n",
       "    </tr>\n",
       "  </tbody>\n",
       "</table>\n",
       "</div>"
      ],
      "text/plain": [
       "   Survived     Sex\n",
       "1         1  female\n",
       "2         1  female\n",
       "3         1  female\n",
       "8         1  female\n",
       "9         1  female"
      ]
     },
     "execution_count": 885,
     "metadata": {},
     "output_type": "execute_result"
    }
   ],
   "source": [
    "# extract data of Survived and Sex only\n",
    "sex_n_survived_data = full_data[full_data['Survived'] == 1][['Survived','Sex']]\n",
    "sex_n_survived_data.head()"
   ]
  },
  {
   "cell_type": "markdown",
   "metadata": {},
   "source": [
    "### 1.1.2 Data wrangling:"
   ]
  },
  {
   "cell_type": "code",
   "execution_count": 886,
   "metadata": {
    "collapsed": false
   },
   "outputs": [
    {
     "name": "stdout",
     "output_type": "stream",
     "text": [
      "Type of data:  <class 'pandas.core.frame.DataFrame'>\n",
      "Number of columns:  2\n",
      "Column names:  Index(['Survived', 'Sex'], dtype='object')\n",
      "Number of rows of full data:  342  rows.\n",
      "Column Survived has: totally  342  rows,  342  rows are valid,  0  rows are invalid.\n",
      "   Data values:  {1}\n",
      "Column Sex has: totally  342  rows,  342  rows are valid,  0  rows are invalid.\n",
      "   Data values:  {'male', 'female'}\n"
     ]
    }
   ],
   "source": [
    "# take a look the overview of above DataFrame \n",
    "data_overviewing(sex_n_survived_data)"
   ]
  },
  {
   "cell_type": "markdown",
   "metadata": {},
   "source": [
    "This provides the detail information of data we have just extracted.\n",
    "The data type is DataFrame, it has 2 columns: Survived column has data type of Integer (values = 0 or 1), Sex column has data type of String (value = 'male' or 'female')."
   ]
  },
  {
   "cell_type": "markdown",
   "metadata": {},
   "source": [
    "There are totally 342 data rows, means 342 survived passengers."
   ]
  },
  {
   "cell_type": "markdown",
   "metadata": {},
   "source": [
    "The valid rows of each column are equal to the total row of full data, there is no invalid rows in both columns so it's fine to proceed with its data now."
   ]
  },
  {
   "cell_type": "markdown",
   "metadata": {},
   "source": [
    "(If there is any NULL values in the DataFrame I will exclude them out, I just work with valid values (0 or 1 of Survived, 'male' or 'female' of Sex))."
   ]
  },
  {
   "cell_type": "markdown",
   "metadata": {},
   "source": [
    "### 1.1.3 Survival Comparision between 2 kinds of genders"
   ]
  },
  {
   "cell_type": "code",
   "execution_count": 887,
   "metadata": {
    "collapsed": false
   },
   "outputs": [
    {
     "data": {
      "text/html": [
       "<div>\n",
       "<table border=\"1\" class=\"dataframe\">\n",
       "  <thead>\n",
       "    <tr style=\"text-align: right;\">\n",
       "      <th></th>\n",
       "      <th>Survived</th>\n",
       "    </tr>\n",
       "    <tr>\n",
       "      <th>Sex</th>\n",
       "      <th></th>\n",
       "    </tr>\n",
       "  </thead>\n",
       "  <tbody>\n",
       "    <tr>\n",
       "      <th>female</th>\n",
       "      <td>233</td>\n",
       "    </tr>\n",
       "    <tr>\n",
       "      <th>male</th>\n",
       "      <td>109</td>\n",
       "    </tr>\n",
       "  </tbody>\n",
       "</table>\n",
       "</div>"
      ],
      "text/plain": [
       "        Survived\n",
       "Sex             \n",
       "female       233\n",
       "male         109"
      ]
     },
     "execution_count": 887,
     "metadata": {},
     "output_type": "execute_result"
    }
   ],
   "source": [
    "# grouping data by Sex, then count the values of each group\n",
    "df_sex_count = sex_n_survived_data.groupby(sex_n_survived_data['Sex']).count()\n",
    "df_sex_count"
   ]
  },
  {
   "cell_type": "code",
   "execution_count": 888,
   "metadata": {
    "collapsed": false
   },
   "outputs": [
    {
     "data": {
      "text/plain": [
       "<matplotlib.text.Text at 0x2ab3feab908>"
      ]
     },
     "execution_count": 888,
     "metadata": {},
     "output_type": "execute_result"
    },
    {
     "data": {
      "image/png": "[encoded data removed]",
      "text/plain": [
       "<matplotlib.figure.Figure at 0x2ab408cfcc0>"
      ]
     },
     "metadata": {},
     "output_type": "display_data"
    }
   ],
   "source": [
    "######################## PLOTTING THE BAR CHART ###########################\n",
    "\n",
    "plt.figure(figsize=(5, 5))\n",
    "\n",
    "# the x locations will be used to display values of 2 groups\n",
    "x_positions = np.arange(2)\n",
    "\n",
    "# the width of bar\n",
    "bar_width = 0.5\n",
    "\n",
    "# the x tick labels\n",
    "x_texts = df_sex_count.index\n",
    "\n",
    "# the values will be displayed are the numbers of survived people of each gender\n",
    "values = df_sex_count['Survived']\n",
    "\n",
    "# set the x label is 'Gender'\n",
    "plt.xlabel('Gender')\n",
    "\n",
    "# set the y label is 'Number of survived passengers'\n",
    "plt.ylabel('Number of survived passengers')\n",
    "\n",
    "# set the title of bar chart is 'Survived Passengers by GENDER'\n",
    "plt.title('Survived Passengers by GENDER', fontsize = 20, fontname = 'Arial')\n",
    "\n",
    "# set the text of each groups on the x axis\n",
    "plt.xticks(x_positions, x_texts)\n",
    "\n",
    "# plotting the bar chart\n",
    "plt.bar(x_positions, values, alpha = 0.8, label = \"Survived\", width = bar_width)\n",
    "\n",
    "# the legend provides information of data what we are plotting, in this case we are focusing on the SURVIVED passengers\n",
    "plt.legend(loc = 1)\n",
    "\n",
    "# display the value above each bar\n",
    "plt.text(0, 234, '233', ha = 'center', va = 'bottom')\n",
    "\n",
    "# display the value above each bar\n",
    "plt.text(1, 110, '109', ha = 'center', va = 'bottom')"
   ]
  },
  {
   "cell_type": "markdown",
   "metadata": {},
   "source": [
    "This plot displays the number of survived passengers of each group: Female and Male."
   ]
  },
  {
   "cell_type": "markdown",
   "metadata": {},
   "source": [
    "The name of groups are on the X axis, the Y axis is the number of survived passengers."
   ]
  },
  {
   "cell_type": "markdown",
   "metadata": {
    "collapsed": true
   },
   "source": [
    "We can see that the Female group has more survived passenger than the Male, it has 233 while Male has 109. The difference is quite big, actually the value of Female is more than 2 times of Male."
   ]
  },
  {
   "cell_type": "markdown",
   "metadata": {},
   "source": [
    "## 1.2 Would Female have more chance to survived than Male?"
   ]
  },
  {
   "cell_type": "markdown",
   "metadata": {},
   "source": [
    "### 1.2.1 Hypothesis:"
   ]
  },
  {
   "cell_type": "markdown",
   "metadata": {
    "collapsed": true
   },
   "source": [
    "From the box and whisker plot, we can see the number of survived female is more than doubled the number of survived male. \n",
    "Additionally with some information I collected about the Titanic disaster, i guess that female would get priority to move to the lifeboats so they have more chance to survived than male."
   ]
  },
  {
   "cell_type": "markdown",
   "metadata": {},
   "source": [
    "So my hypothesis here is: female (F) likely to have more chance to survived than male (M)."
   ]
  },
  {
   "cell_type": "markdown",
   "metadata": {},
   "source": [
    "Ho: p(F) <= p(M)"
   ]
  },
  {
   "cell_type": "markdown",
   "metadata": {},
   "source": [
    "Ha: p(F) > p(M)"
   ]
  },
  {
   "cell_type": "markdown",
   "metadata": {},
   "source": [
    "So now I'm going to perform the Z-test with two proportion in order to prove my hypothesis correct."
   ]
  },
  {
   "cell_type": "markdown",
   "metadata": {},
   "source": [
    "### 1.2.2 Data Manipulating: "
   ]
  },
  {
   "cell_type": "markdown",
   "metadata": {},
   "source": [
    "I will use the data which extracted in 1.1.1. Here are steps I'm going to do:"
   ]
  },
  {
   "cell_type": "markdown",
   "metadata": {},
   "source": [
    "Step 1: Spliting the full data into 2 groups: Male and Female."
   ]
  },
  {
   "cell_type": "markdown",
   "metadata": {},
   "source": [
    "Step 2:"
   ]
  },
  {
   "cell_type": "markdown",
   "metadata": {},
   "source": [
    "For Female data: calculating the number of all passenger (n1), the number of survived passenger (x1)"
   ]
  },
  {
   "cell_type": "markdown",
   "metadata": {},
   "source": [
    "  For Male data: calculating the number of all passenger (n2),  the number of survived passenger (x2)"
   ]
  },
  {
   "cell_type": "markdown",
   "metadata": {},
   "source": [
    "Then calculating the proportions:"
   ]
  },
  {
   "cell_type": "markdown",
   "metadata": {},
   "source": [
    "p(F) = x1/n1"
   ]
  },
  {
   "cell_type": "markdown",
   "metadata": {},
   "source": [
    "p(M) = x2/n2"
   ]
  },
  {
   "cell_type": "markdown",
   "metadata": {},
   "source": [
    "p_bar = (x1 + x2)/(n1 + n2)"
   ]
  },
  {
   "cell_type": "markdown",
   "metadata": {
    "collapsed": true
   },
   "source": [
    "Step 3: Perform Hypothesis testing.   "
   ]
  },
  {
   "cell_type": "code",
   "execution_count": 889,
   "metadata": {
    "collapsed": true
   },
   "outputs": [],
   "source": [
    "######################## START 1 ##########################"
   ]
  },
  {
   "cell_type": "code",
   "execution_count": 890,
   "metadata": {
    "collapsed": false
   },
   "outputs": [],
   "source": [
    "# split that data into 2 groups: Male and Female\n",
    "# and just take data of columns Survived and Sex\n",
    "df_full_male = full_data[ full_data['Sex'] == 'male' ][['Survived','Sex']]\n",
    "df_full_female = full_data[ full_data['Sex'] == 'female' ][['Survived','Sex']]"
   ]
  },
  {
   "cell_type": "code",
   "execution_count": 891,
   "metadata": {
    "collapsed": false
   },
   "outputs": [
    {
     "data": {
      "text/html": [
       "<div>\n",
       "<table border=\"1\" class=\"dataframe\">\n",
       "  <thead>\n",
       "    <tr style=\"text-align: right;\">\n",
       "      <th></th>\n",
       "      <th>Survived</th>\n",
       "      <th>Sex</th>\n",
       "    </tr>\n",
       "  </thead>\n",
       "  <tbody>\n",
       "    <tr>\n",
       "      <th>0</th>\n",
       "      <td>0</td>\n",
       "      <td>male</td>\n",
       "    </tr>\n",
       "    <tr>\n",
       "      <th>4</th>\n",
       "      <td>0</td>\n",
       "      <td>male</td>\n",
       "    </tr>\n",
       "    <tr>\n",
       "      <th>5</th>\n",
       "      <td>0</td>\n",
       "      <td>male</td>\n",
       "    </tr>\n",
       "    <tr>\n",
       "      <th>6</th>\n",
       "      <td>0</td>\n",
       "      <td>male</td>\n",
       "    </tr>\n",
       "    <tr>\n",
       "      <th>7</th>\n",
       "      <td>0</td>\n",
       "      <td>male</td>\n",
       "    </tr>\n",
       "  </tbody>\n",
       "</table>\n",
       "</div>"
      ],
      "text/plain": [
       "   Survived   Sex\n",
       "0         0  male\n",
       "4         0  male\n",
       "5         0  male\n",
       "6         0  male\n",
       "7         0  male"
      ]
     },
     "execution_count": 891,
     "metadata": {},
     "output_type": "execute_result"
    }
   ],
   "source": [
    "# printing the first 5 rows of df_full_male\n",
    "df_full_male.head()"
   ]
  },
  {
   "cell_type": "code",
   "execution_count": 892,
   "metadata": {
    "collapsed": false
   },
   "outputs": [
    {
     "data": {
      "text/html": [
       "<div>\n",
       "<table border=\"1\" class=\"dataframe\">\n",
       "  <thead>\n",
       "    <tr style=\"text-align: right;\">\n",
       "      <th></th>\n",
       "      <th>Survived</th>\n",
       "      <th>Sex</th>\n",
       "    </tr>\n",
       "  </thead>\n",
       "  <tbody>\n",
       "    <tr>\n",
       "      <th>1</th>\n",
       "      <td>1</td>\n",
       "      <td>female</td>\n",
       "    </tr>\n",
       "    <tr>\n",
       "      <th>2</th>\n",
       "      <td>1</td>\n",
       "      <td>female</td>\n",
       "    </tr>\n",
       "    <tr>\n",
       "      <th>3</th>\n",
       "      <td>1</td>\n",
       "      <td>female</td>\n",
       "    </tr>\n",
       "    <tr>\n",
       "      <th>8</th>\n",
       "      <td>1</td>\n",
       "      <td>female</td>\n",
       "    </tr>\n",
       "    <tr>\n",
       "      <th>9</th>\n",
       "      <td>1</td>\n",
       "      <td>female</td>\n",
       "    </tr>\n",
       "  </tbody>\n",
       "</table>\n",
       "</div>"
      ],
      "text/plain": [
       "   Survived     Sex\n",
       "1         1  female\n",
       "2         1  female\n",
       "3         1  female\n",
       "8         1  female\n",
       "9         1  female"
      ]
     },
     "execution_count": 892,
     "metadata": {},
     "output_type": "execute_result"
    }
   ],
   "source": [
    "# printing the first 5 rows of df_full_female\n",
    "df_full_female.head()"
   ]
  },
  {
   "cell_type": "code",
   "execution_count": 893,
   "metadata": {
    "collapsed": true
   },
   "outputs": [],
   "source": [
    "######################## END 1 ##########################"
   ]
  },
  {
   "cell_type": "code",
   "execution_count": 894,
   "metadata": {
    "collapsed": true
   },
   "outputs": [],
   "source": [
    "######################## START 2 ##########################"
   ]
  },
  {
   "cell_type": "code",
   "execution_count": 895,
   "metadata": {
    "collapsed": false
   },
   "outputs": [
    {
     "name": "stdout",
     "output_type": "stream",
     "text": [
      "233 314\n"
     ]
    }
   ],
   "source": [
    "# For Female data: \n",
    "\n",
    "# calculating the number of all passenger (n1)\n",
    "n1 = len(df_full_female)\n",
    "\n",
    "# calculating the number of survived passenger (x1)\n",
    "x1 = len( df_full_female[ df_full_female['Survived'] == 1 ])\n",
    "\n",
    "print(x1, n1)"
   ]
  },
  {
   "cell_type": "code",
   "execution_count": 896,
   "metadata": {
    "collapsed": false
   },
   "outputs": [
    {
     "name": "stdout",
     "output_type": "stream",
     "text": [
      "109 577\n"
     ]
    }
   ],
   "source": [
    "# For Male data: \n",
    "\n",
    "# calculating the number of all passenger (n2)\n",
    "n2 = len(df_full_male)\n",
    "\n",
    "# calculating the number of survived passenger (x2)\n",
    "x2 = len( df_full_male[ df_full_male['Survived'] == 1 ])\n",
    "\n",
    "print(x2, n2)"
   ]
  },
  {
   "cell_type": "code",
   "execution_count": 897,
   "metadata": {
    "collapsed": false
   },
   "outputs": [
    {
     "name": "stdout",
     "output_type": "stream",
     "text": [
      "0.7420382165605095 0.18890814558058924 0.3838383838383838\n"
     ]
    }
   ],
   "source": [
    "# calculating p(M), p(F), p_bar\n",
    "p_hat_F = x1/n1\n",
    "p_hat_M = x2/n2\n",
    "p_bar = (x1+x2)/(n1+n2)\n",
    "\n",
    "print(p_hat_F, p_hat_M, p_bar)"
   ]
  },
  {
   "cell_type": "code",
   "execution_count": 898,
   "metadata": {
    "collapsed": true
   },
   "outputs": [],
   "source": [
    "######################## END 2 ##########################"
   ]
  },
  {
   "cell_type": "code",
   "execution_count": 899,
   "metadata": {
    "collapsed": true
   },
   "outputs": [],
   "source": [
    "######################## START 3 ##########################"
   ]
  },
  {
   "cell_type": "markdown",
   "metadata": {},
   "source": [
    "Before perform the hypothesis testing, I assume that:"
   ]
  },
  {
   "cell_type": "markdown",
   "metadata": {},
   "source": [
    "- the sample data had been chosen randomly."
   ]
  },
  {
   "cell_type": "markdown",
   "metadata": {},
   "source": [
    "- all passengers had equaly chance to survive so they are independent samples."
   ]
  },
  {
   "cell_type": "markdown",
   "metadata": {},
   "source": [
    "As we see the size of samples are n1 = 577 and n2 = 314, they are greater than 30 and are large samples so the population distribution would approximately normal. With the assumption and large samples, i will perform the Z-test with two proportion now. "
   ]
  },
  {
   "cell_type": "code",
   "execution_count": 900,
   "metadata": {
    "collapsed": false
   },
   "outputs": [
    {
     "name": "stdout",
     "output_type": "stream",
     "text": [
      "16.22\n"
     ]
    }
   ],
   "source": [
    "# calculating the z_statistic value\n",
    "z_statictic = round((p_hat_F - p_hat_M)/math.sqrt(p_bar*(1-p_bar)*(1/n1 + 1/n2)), 2)\n",
    "print(z_statictic)"
   ]
  },
  {
   "cell_type": "code",
   "execution_count": 901,
   "metadata": {
    "collapsed": true
   },
   "outputs": [],
   "source": [
    "# with z_statistic = 16.22 (event not available in Z-table) then p_value < 0.0001\n",
    "p_value = 0.00001"
   ]
  },
  {
   "cell_type": "code",
   "execution_count": 902,
   "metadata": {
    "collapsed": true
   },
   "outputs": [],
   "source": [
    "###################### CONCLUSION ######################"
   ]
  },
  {
   "cell_type": "markdown",
   "metadata": {},
   "source": [
    "At alpha level = 0.9999, since p value < 0.0001 so we REJECT THE NULL."
   ]
  },
  {
   "cell_type": "markdown",
   "metadata": {},
   "source": [
    "That means i'm 99.99% confident to claim that the FEMALE passengers likely to have more chance to survive than MALE."
   ]
  },
  {
   "cell_type": "markdown",
   "metadata": {},
   "source": [
    "The reason might be they are usually get the high priority during the rescuing procedure so they would have more chance to survive than Male."
   ]
  },
  {
   "cell_type": "code",
   "execution_count": 903,
   "metadata": {
    "collapsed": true
   },
   "outputs": [],
   "source": [
    "######################## END 3 ########################"
   ]
  },
  {
   "cell_type": "markdown",
   "metadata": {
    "collapsed": true
   },
   "source": [
    "# 2. ANALYZING WITH FARE"
   ]
  },
  {
   "cell_type": "markdown",
   "metadata": {},
   "source": [
    "In this analyzing, I will just focus in the Survived and Fare data so i will just extract them out."
   ]
  },
  {
   "cell_type": "code",
   "execution_count": 904,
   "metadata": {
    "collapsed": false
   },
   "outputs": [],
   "source": [
    "# split data into 2 groups: SURVIVED and NON-SURVIVED groups\n",
    "fare_data_survived = full_data[full_data['Survived'] == 1][['Fare','Survived']]\n",
    "fare_data_non_survived = full_data[full_data['Survived'] == 0][['Fare','Survived']]"
   ]
  },
  {
   "cell_type": "markdown",
   "metadata": {},
   "source": [
    "### 2.1 Data wrangling:"
   ]
  },
  {
   "cell_type": "code",
   "execution_count": 905,
   "metadata": {
    "collapsed": true
   },
   "outputs": [],
   "source": [
    "################### START: DATA WRANGLING WITH FARE DATA OF SURVIVED PASSENGERS ######################"
   ]
  },
  {
   "cell_type": "code",
   "execution_count": 906,
   "metadata": {
    "collapsed": false
   },
   "outputs": [
    {
     "data": {
      "text/html": [
       "<div>\n",
       "<table border=\"1\" class=\"dataframe\">\n",
       "  <thead>\n",
       "    <tr style=\"text-align: right;\">\n",
       "      <th></th>\n",
       "      <th>Fare</th>\n",
       "      <th>Survived</th>\n",
       "    </tr>\n",
       "  </thead>\n",
       "  <tbody>\n",
       "    <tr>\n",
       "      <th>1</th>\n",
       "      <td>71.2833</td>\n",
       "      <td>1</td>\n",
       "    </tr>\n",
       "    <tr>\n",
       "      <th>2</th>\n",
       "      <td>7.9250</td>\n",
       "      <td>1</td>\n",
       "    </tr>\n",
       "    <tr>\n",
       "      <th>3</th>\n",
       "      <td>53.1000</td>\n",
       "      <td>1</td>\n",
       "    </tr>\n",
       "    <tr>\n",
       "      <th>8</th>\n",
       "      <td>11.1333</td>\n",
       "      <td>1</td>\n",
       "    </tr>\n",
       "    <tr>\n",
       "      <th>9</th>\n",
       "      <td>30.0708</td>\n",
       "      <td>1</td>\n",
       "    </tr>\n",
       "  </tbody>\n",
       "</table>\n",
       "</div>"
      ],
      "text/plain": [
       "      Fare  Survived\n",
       "1  71.2833         1\n",
       "2   7.9250         1\n",
       "3  53.1000         1\n",
       "8  11.1333         1\n",
       "9  30.0708         1"
      ]
     },
     "execution_count": 906,
     "metadata": {},
     "output_type": "execute_result"
    }
   ],
   "source": [
    "# view the first 5 rows of fare_data_survived\n",
    "fare_data_survived.head()"
   ]
  },
  {
   "cell_type": "code",
   "execution_count": 907,
   "metadata": {
    "collapsed": false
   },
   "outputs": [
    {
     "name": "stdout",
     "output_type": "stream",
     "text": [
      "Type of data:  <class 'pandas.core.frame.DataFrame'>\n",
      "Number of columns:  2\n",
      "Column names:  Index(['Fare', 'Survived'], dtype='object')\n",
      "Number of rows of full data:  342  rows.\n",
      "Column Fare has: totally  342  rows,  341  rows are valid,  1  rows are invalid.\n",
      "   Data values: in range ( 0.0 ,  512.3292 )\n",
      "Column Survived has: totally  342  rows,  342  rows are valid,  0  rows are invalid.\n",
      "   Data values:  {1}\n"
     ]
    }
   ],
   "source": [
    "# overview the Fare data of survived people\n",
    "data_overviewing(fare_data_survived)"
   ]
  },
  {
   "cell_type": "code",
   "execution_count": 908,
   "metadata": {
    "collapsed": false
   },
   "outputs": [
    {
     "data": {
      "text/html": [
       "<div>\n",
       "<table border=\"1\" class=\"dataframe\">\n",
       "  <thead>\n",
       "    <tr style=\"text-align: right;\">\n",
       "      <th></th>\n",
       "      <th>Fare</th>\n",
       "      <th>Survived</th>\n",
       "    </tr>\n",
       "  </thead>\n",
       "  <tbody>\n",
       "    <tr>\n",
       "      <th>271</th>\n",
       "      <td>0.0</td>\n",
       "      <td>1</td>\n",
       "    </tr>\n",
       "  </tbody>\n",
       "</table>\n",
       "</div>"
      ],
      "text/plain": [
       "     Fare  Survived\n",
       "271   0.0         1"
      ]
     },
     "execution_count": 908,
     "metadata": {},
     "output_type": "execute_result"
    }
   ],
   "source": [
    "extract_invalid_data(fare_data_survived, 'Fare')"
   ]
  },
  {
   "cell_type": "markdown",
   "metadata": {},
   "source": [
    "Above information tells that the DataFrame fare_data_survived has 342 rows/total 889 rows of full data, that means there are 342/889 passengers survived."
   ]
  },
  {
   "cell_type": "markdown",
   "metadata": {},
   "source": [
    "The DataFrame fare_data_survived has 2 columns: Survived column has data type of Integer (value = 0 or 1), Fare column has data type of Float."
   ]
  },
  {
   "cell_type": "markdown",
   "metadata": {},
   "source": [
    "Column Survived has no invalid row. Column Fare has 1 invalid row (Fare = 0.0) and it is the Passenger ID 271 in the data."
   ]
  },
  {
   "cell_type": "markdown",
   "metadata": {},
   "source": [
    "Due to the invalid row in the Fare column, I will filter and take the Fare values > 0."
   ]
  },
  {
   "cell_type": "code",
   "execution_count": 909,
   "metadata": {
    "collapsed": true
   },
   "outputs": [],
   "source": [
    "################### END: DATA WRANGLING WITH FARE DATA OF SURVIVED PASSENGERS ######################"
   ]
  },
  {
   "cell_type": "code",
   "execution_count": 910,
   "metadata": {
    "collapsed": true
   },
   "outputs": [],
   "source": [
    "################### START: DATA WRANGLING WITH FARE DATA OF NON-SURVIVED PASSENGERS ######################"
   ]
  },
  {
   "cell_type": "code",
   "execution_count": 911,
   "metadata": {
    "collapsed": false
   },
   "outputs": [
    {
     "data": {
      "text/html": [
       "<div>\n",
       "<table border=\"1\" class=\"dataframe\">\n",
       "  <thead>\n",
       "    <tr style=\"text-align: right;\">\n",
       "      <th></th>\n",
       "      <th>Fare</th>\n",
       "      <th>Survived</th>\n",
       "    </tr>\n",
       "  </thead>\n",
       "  <tbody>\n",
       "    <tr>\n",
       "      <th>0</th>\n",
       "      <td>7.2500</td>\n",
       "      <td>0</td>\n",
       "    </tr>\n",
       "    <tr>\n",
       "      <th>4</th>\n",
       "      <td>8.0500</td>\n",
       "      <td>0</td>\n",
       "    </tr>\n",
       "    <tr>\n",
       "      <th>5</th>\n",
       "      <td>8.4583</td>\n",
       "      <td>0</td>\n",
       "    </tr>\n",
       "    <tr>\n",
       "      <th>6</th>\n",
       "      <td>51.8625</td>\n",
       "      <td>0</td>\n",
       "    </tr>\n",
       "    <tr>\n",
       "      <th>7</th>\n",
       "      <td>21.0750</td>\n",
       "      <td>0</td>\n",
       "    </tr>\n",
       "  </tbody>\n",
       "</table>\n",
       "</div>"
      ],
      "text/plain": [
       "      Fare  Survived\n",
       "0   7.2500         0\n",
       "4   8.0500         0\n",
       "5   8.4583         0\n",
       "6  51.8625         0\n",
       "7  21.0750         0"
      ]
     },
     "execution_count": 911,
     "metadata": {},
     "output_type": "execute_result"
    }
   ],
   "source": [
    "# view the first 5 rows of fare_data_non_survived\n",
    "fare_data_non_survived.head()"
   ]
  },
  {
   "cell_type": "code",
   "execution_count": 912,
   "metadata": {
    "collapsed": false
   },
   "outputs": [
    {
     "name": "stdout",
     "output_type": "stream",
     "text": [
      "Type of data:  <class 'pandas.core.frame.DataFrame'>\n",
      "Number of columns:  2\n",
      "Column names:  Index(['Fare', 'Survived'], dtype='object')\n",
      "Number of rows of full data:  549  rows.\n",
      "Column Fare has: totally  549  rows,  535  rows are valid,  14  rows are invalid.\n",
      "   Data values: in range ( 0.0 ,  263.0 )\n",
      "Column Survived has: totally  549  rows,  549  rows are valid,  0  rows are invalid.\n",
      "   Data values:  {0}\n"
     ]
    }
   ],
   "source": [
    "# overview the Fare data of non-survived people\n",
    "data_overviewing(fare_data_non_survived)"
   ]
  },
  {
   "cell_type": "code",
   "execution_count": 913,
   "metadata": {
    "collapsed": false
   },
   "outputs": [
    {
     "data": {
      "text/html": [
       "<div>\n",
       "<table border=\"1\" class=\"dataframe\">\n",
       "  <thead>\n",
       "    <tr style=\"text-align: right;\">\n",
       "      <th></th>\n",
       "      <th>Fare</th>\n",
       "      <th>Survived</th>\n",
       "    </tr>\n",
       "  </thead>\n",
       "  <tbody>\n",
       "    <tr>\n",
       "      <th>179</th>\n",
       "      <td>0.0</td>\n",
       "      <td>0</td>\n",
       "    </tr>\n",
       "    <tr>\n",
       "      <th>263</th>\n",
       "      <td>0.0</td>\n",
       "      <td>0</td>\n",
       "    </tr>\n",
       "    <tr>\n",
       "      <th>277</th>\n",
       "      <td>0.0</td>\n",
       "      <td>0</td>\n",
       "    </tr>\n",
       "    <tr>\n",
       "      <th>302</th>\n",
       "      <td>0.0</td>\n",
       "      <td>0</td>\n",
       "    </tr>\n",
       "    <tr>\n",
       "      <th>413</th>\n",
       "      <td>0.0</td>\n",
       "      <td>0</td>\n",
       "    </tr>\n",
       "    <tr>\n",
       "      <th>466</th>\n",
       "      <td>0.0</td>\n",
       "      <td>0</td>\n",
       "    </tr>\n",
       "    <tr>\n",
       "      <th>481</th>\n",
       "      <td>0.0</td>\n",
       "      <td>0</td>\n",
       "    </tr>\n",
       "    <tr>\n",
       "      <th>597</th>\n",
       "      <td>0.0</td>\n",
       "      <td>0</td>\n",
       "    </tr>\n",
       "    <tr>\n",
       "      <th>633</th>\n",
       "      <td>0.0</td>\n",
       "      <td>0</td>\n",
       "    </tr>\n",
       "    <tr>\n",
       "      <th>674</th>\n",
       "      <td>0.0</td>\n",
       "      <td>0</td>\n",
       "    </tr>\n",
       "    <tr>\n",
       "      <th>732</th>\n",
       "      <td>0.0</td>\n",
       "      <td>0</td>\n",
       "    </tr>\n",
       "    <tr>\n",
       "      <th>806</th>\n",
       "      <td>0.0</td>\n",
       "      <td>0</td>\n",
       "    </tr>\n",
       "    <tr>\n",
       "      <th>815</th>\n",
       "      <td>0.0</td>\n",
       "      <td>0</td>\n",
       "    </tr>\n",
       "    <tr>\n",
       "      <th>822</th>\n",
       "      <td>0.0</td>\n",
       "      <td>0</td>\n",
       "    </tr>\n",
       "  </tbody>\n",
       "</table>\n",
       "</div>"
      ],
      "text/plain": [
       "     Fare  Survived\n",
       "179   0.0         0\n",
       "263   0.0         0\n",
       "277   0.0         0\n",
       "302   0.0         0\n",
       "413   0.0         0\n",
       "466   0.0         0\n",
       "481   0.0         0\n",
       "597   0.0         0\n",
       "633   0.0         0\n",
       "674   0.0         0\n",
       "732   0.0         0\n",
       "806   0.0         0\n",
       "815   0.0         0\n",
       "822   0.0         0"
      ]
     },
     "execution_count": 913,
     "metadata": {},
     "output_type": "execute_result"
    }
   ],
   "source": [
    "# extract the invalid rows of fare_data_non_survived\n",
    "extract_invalid_data(fare_data_non_survived, 'Fare')"
   ]
  },
  {
   "cell_type": "markdown",
   "metadata": {},
   "source": [
    "We can see that fare_data_non_survived has 549 rows, it means there are 549 non-survived in the total 891 passengers."
   ]
  },
  {
   "cell_type": "markdown",
   "metadata": {},
   "source": [
    "Column Survived doesn't have any invalid data but column Fare does have 14 rows. I also will filter and take the Fare values > 0."
   ]
  },
  {
   "cell_type": "code",
   "execution_count": 914,
   "metadata": {
    "collapsed": true
   },
   "outputs": [],
   "source": [
    "################### END: DATA WRANGLING WITH FARE DATA OF NON-SURVIVED PASSENGERS ######################"
   ]
  },
  {
   "cell_type": "markdown",
   "metadata": {},
   "source": [
    "## 2.2 Displaying the statistic values and box plot."
   ]
  },
  {
   "cell_type": "markdown",
   "metadata": {},
   "source": [
    "What I'm going to do here are:"
   ]
  },
  {
   "cell_type": "markdown",
   "metadata": {},
   "source": [
    "1.Spliting full data into 2 groups: Survived and Non-survived, just focusing on the Fare data only."
   ]
  },
  {
   "cell_type": "markdown",
   "metadata": {},
   "source": [
    "2.Displaying the statistic values of each data group."
   ]
  },
  {
   "cell_type": "markdown",
   "metadata": {
    "collapsed": true
   },
   "source": [
    "3.Display the box and whisker plot for both data groups."
   ]
  },
  {
   "cell_type": "code",
   "execution_count": 915,
   "metadata": {
    "collapsed": true
   },
   "outputs": [],
   "source": [
    "################################### START 1 ###################################"
   ]
  },
  {
   "cell_type": "code",
   "execution_count": 916,
   "metadata": {
    "collapsed": false
   },
   "outputs": [],
   "source": [
    "# just need data of columns: Fare, Survived\n",
    "# filter and take the valid data rows (Fare values > 0)\n",
    "fare_data_survived = fare_data_survived[fare_data_survived['Fare'] > 0][['Fare','Survived']]\n",
    "fare_data_non_survived = fare_data_non_survived[fare_data_non_survived['Fare'] > 0][['Fare','Survived']]"
   ]
  },
  {
   "cell_type": "code",
   "execution_count": 917,
   "metadata": {
    "collapsed": true
   },
   "outputs": [],
   "source": [
    "################################### END 1 ###################################"
   ]
  },
  {
   "cell_type": "code",
   "execution_count": 918,
   "metadata": {
    "collapsed": true
   },
   "outputs": [],
   "source": [
    "################################### START 2 ###################################"
   ]
  },
  {
   "cell_type": "code",
   "execution_count": 919,
   "metadata": {
    "collapsed": false
   },
   "outputs": [
    {
     "data": {
      "text/plain": [
       "count    341.000000\n",
       "mean      48.537330\n",
       "std       66.643049\n",
       "min        6.975000\n",
       "25%       12.475000\n",
       "50%       26.000000\n",
       "75%       57.000000\n",
       "max      512.329200\n",
       "Name: Fare, dtype: float64"
      ]
     },
     "execution_count": 919,
     "metadata": {},
     "output_type": "execute_result"
    }
   ],
   "source": [
    "fare_data_survived['Fare'].describe()"
   ]
  },
  {
   "cell_type": "markdown",
   "metadata": {},
   "source": [
    "The statistic values of fare_data_survived tells us the SURVIVED passengers have:"
   ]
  },
  {
   "cell_type": "markdown",
   "metadata": {},
   "source": [
    "- there are 341 values (passengers)\n",
    "- the MEAN of FARE is: 48.54\n",
    "- the standard deviation of Fare values is: 66.64\n",
    "- the min value is: 6.975\n",
    "- the max value is: 512.33\n",
    "- the quartile values Q1, Q2, Q3 are: 12.475, 26 and 57."
   ]
  },
  {
   "cell_type": "code",
   "execution_count": 920,
   "metadata": {
    "collapsed": false
   },
   "outputs": [
    {
     "data": {
      "text/plain": [
       "count    535.000000\n",
       "mean      22.696673\n",
       "std       31.589367\n",
       "min        4.012500\n",
       "25%        7.895800\n",
       "50%       10.500000\n",
       "75%       26.000000\n",
       "max      263.000000\n",
       "Name: Fare, dtype: float64"
      ]
     },
     "execution_count": 920,
     "metadata": {},
     "output_type": "execute_result"
    }
   ],
   "source": [
    "fare_data_non_survived['Fare'].describe()"
   ]
  },
  {
   "cell_type": "markdown",
   "metadata": {},
   "source": [
    "The statistic values of fare_data_survived tells us the NON-SURVIVED passengers have:"
   ]
  },
  {
   "cell_type": "markdown",
   "metadata": {},
   "source": [
    "- there are 535 values (passengers)\n",
    "- the MEAN of FARE is: 22.7\n",
    "- the standard deviation of Fare values is: 31.59\n",
    "- the min value is: 4.01\n",
    "- the max value is: 263\n",
    "- the quartile values Q1, Q2, Q3 are: 7.9, 10.5 and 26."
   ]
  },
  {
   "cell_type": "markdown",
   "metadata": {},
   "source": [
    "Do the comparision of 2 groups, we see that: NON-SURVIVED group only has one value greater than the SURVIVED, it is the COUNT value. It means the number of non-survived passengers is more than survived."
   ]
  },
  {
   "cell_type": "markdown",
   "metadata": {},
   "source": [
    "But SURVIVED group have greater mean, min, max, Q1, Q2, Q3 values than the NON-SURVIVED, that means they spent more money on the Fare than the NON-SURVIVED passengers."
   ]
  },
  {
   "cell_type": "markdown",
   "metadata": {},
   "source": [
    "The standard deviation value greater tells that the SURVIVED group has the wider of fare range than the NON-SURVIVED."
   ]
  },
  {
   "cell_type": "code",
   "execution_count": 921,
   "metadata": {
    "collapsed": true
   },
   "outputs": [],
   "source": [
    "################################### END 2 ###################################"
   ]
  },
  {
   "cell_type": "code",
   "execution_count": 922,
   "metadata": {
    "collapsed": true
   },
   "outputs": [],
   "source": [
    "################################### START 3 ###################################"
   ]
  },
  {
   "cell_type": "code",
   "execution_count": 923,
   "metadata": {
    "collapsed": false
   },
   "outputs": [
    {
     "data": {
      "image/png": "[encoded data removed]",
      "text/plain": [
       "<matplotlib.figure.Figure at 0x2ab3feab748>"
      ]
     },
     "metadata": {},
     "output_type": "display_data"
    }
   ],
   "source": [
    "####################### PLOTTING BOX & WHISKER PLOT #######################\n",
    "\n",
    "# set the figure size\n",
    "plt.figure(figsize=(20,6))\n",
    "\n",
    "# FARE array of SURVIVED passengers\n",
    "fare_survived = np.array(fare_data_survived['Fare'])\n",
    "\n",
    "# FARE array of NON-SURVIVED passengers\n",
    "fare_non_survived = np.array(fare_data_non_survived['Fare'])\n",
    "\n",
    "# a list contains both arrays\n",
    "data = [fare_survived, fare_non_survived]\n",
    "\n",
    "# y locations for 2 groups on the Y axis\n",
    "y_locations = np.arange(2)\n",
    "\n",
    "# plotting box and whisker plot for the data in the horizontal boxes\n",
    "plt.boxplot(data, 0, 'gD', 0, 1)\n",
    "\n",
    "# set the Y label is \"SURVIVAL STATE\"\n",
    "plt.ylabel(\"SURVIVAL STATE\", fontsize = 15, fontname = 'Arial')\n",
    "\n",
    "# set the X label is \"FARE\"\n",
    "plt.xlabel(\"FARE\", fontsize = 15, fontname = 'Arial')\n",
    "\n",
    "# set the title is \"COMPARISION OF FARE BY SURVIVAL STATE\"\n",
    "plt.title(\"COMPARISION OF FARE BY SURVIVAL STATE\", fontsize = 20, fontname = 'Arial')\n",
    "\n",
    "# set the tick labels on the Y axis\n",
    "plt.yticks(y_locations + 1 , ['SURVIVED', 'NON-SURVIVED'])\n",
    "\n",
    "# display the plot\n",
    "plt.show()"
   ]
  },
  {
   "cell_type": "markdown",
   "metadata": {
    "collapsed": true
   },
   "source": [
    "We can see that the box of SURVIVED group is longer than the NON-SURVIVED, means its values are more spread out than the NON-SURVIVED, it also tells that the range FARE values of SURVIVED group is wider than the NON-SURVIVED. The STANDARD DEVIATION of SURVIVED greater than NON-SURVIVED (66.64 > 31.59) also present the wider range FARE value of SURVIVED group."
   ]
  },
  {
   "cell_type": "markdown",
   "metadata": {},
   "source": [
    "The box of SURVIVED group is also more right aligned than the NON-SURVIVED, that mean most of its statistic values (MEAN, MIN, MAX, Q1, Q2, Q3) and even its outlier values are greater than the NON-SURVIVED,. All that tells that the SURVIVED group spent more money on the fare than NON-SURVIVED."
   ]
  },
  {
   "cell_type": "markdown",
   "metadata": {},
   "source": [
    "But both groups also have several the outliers, means the range of fare of each group is large range, the fare values of each group are spread out widely."
   ]
  },
  {
   "cell_type": "code",
   "execution_count": 924,
   "metadata": {
    "collapsed": true
   },
   "outputs": [],
   "source": [
    "################################### END 3 ###################################"
   ]
  },
  {
   "cell_type": "markdown",
   "metadata": {},
   "source": [
    "## 2.3 Did survived passengers spend more money for Fare than the Non-survived?"
   ]
  },
  {
   "cell_type": "markdown",
   "metadata": {},
   "source": [
    "### 2.3.1 Hypothesis:"
   ]
  },
  {
   "cell_type": "markdown",
   "metadata": {},
   "source": [
    "My hypothesis is: the SURVIVED group spent more money for fare than the NON-SURVIVED."
   ]
  },
  {
   "cell_type": "markdown",
   "metadata": {},
   "source": [
    "Ho: miu(s) <= miu(n)"
   ]
  },
  {
   "cell_type": "markdown",
   "metadata": {},
   "source": [
    "Ha: miu(s) > miu(n)"
   ]
  },
  {
   "cell_type": "markdown",
   "metadata": {},
   "source": [
    "with:"
   ]
  },
  {
   "cell_type": "markdown",
   "metadata": {},
   "source": [
    "- miu(s) is the mean value of Fare of SURVIVED group\n",
    "- miu(n) is the mean value of Fare of NON-SURVIVED group."
   ]
  },
  {
   "cell_type": "markdown",
   "metadata": {},
   "source": [
    "### 2.3.2 Perform hypothesis testing:"
   ]
  },
  {
   "cell_type": "markdown",
   "metadata": {},
   "source": [
    "I assume that:\n",
    "- this testing data is random sample from the population.\n",
    "- the population data is normally distributed.\n",
    "- these 2 groups are independent."
   ]
  },
  {
   "cell_type": "markdown",
   "metadata": {},
   "source": [
    "so now I will apply the T-TEST for INDEPENDENT MEANS to prove the hypothesis."
   ]
  },
  {
   "cell_type": "code",
   "execution_count": 925,
   "metadata": {
    "collapsed": true
   },
   "outputs": [],
   "source": [
    "# this function will calculate the mean, standard deviation and size of input data\n",
    "# then calculate the standard error (se)\n",
    "# finally return the t-statistic value\n",
    "\n",
    "# input parameter: values of 2 groups\n",
    "# output returned: the t-statistic value\n",
    "\n",
    "import math\n",
    "def t_statistic_of_independent_means(data1, data2):\n",
    "    try:\n",
    "        mean1, std1, size1 = data1.mean(), data1.std(), len(data1)\n",
    "        mean2, std2, size2 = data2.mean(), data2.std(), len(data2)\n",
    "        \n",
    "        se = math.sqrt( (std1*std1)/size1 + (std2*std2)/size2 )\n",
    "        df = size1 + size2 - 2\n",
    "        return round((mean2-mean1)/se, 2), df\n",
    "    except:\n",
    "        raise ValueError"
   ]
  },
  {
   "cell_type": "code",
   "execution_count": 926,
   "metadata": {
    "collapsed": true
   },
   "outputs": [],
   "source": [
    "# calculating t_statistic value and degree of freedom by\n",
    "# passing the Fare data of 2 groups into function t_statistic_of_independent_means\n",
    "t_statistic, df = t_statistic_of_independent_means(fare_data_non_survived['Fare'], fare_data_survived['Fare'])"
   ]
  },
  {
   "cell_type": "code",
   "execution_count": 927,
   "metadata": {
    "collapsed": false
   },
   "outputs": [
    {
     "name": "stdout",
     "output_type": "stream",
     "text": [
      "6.7 874\n"
     ]
    }
   ],
   "source": [
    "# print out the t_statistic and degree of freedom values\n",
    "print(t_statistic, df)"
   ]
  },
  {
   "cell_type": "code",
   "execution_count": 928,
   "metadata": {
    "collapsed": true
   },
   "outputs": [],
   "source": [
    "# at alpha level = 0.001 (one tailed test), df = 874\n",
    "# refer to the t-table, we will have t-critical:\n",
    "t_critical = 3.0996"
   ]
  },
  {
   "cell_type": "code",
   "execution_count": 929,
   "metadata": {
    "collapsed": true
   },
   "outputs": [],
   "source": [
    "#################### CONCLUSION ####################"
   ]
  },
  {
   "cell_type": "markdown",
   "metadata": {},
   "source": [
    "Since the t_critical = 3.0996 < t_statistic = 6.7 so we REJECT THE NULL at alpha level = 0.001."
   ]
  },
  {
   "cell_type": "markdown",
   "metadata": {},
   "source": [
    "That means we are 99.9% confident to claim that: the SURVIVED passengers spent significantly more money for the fare than the NON-SURVIVED."
   ]
  },
  {
   "cell_type": "markdown",
   "metadata": {},
   "source": [
    "# 3. ANALYZING WITH AGE DATA"
   ]
  },
  {
   "cell_type": "markdown",
   "metadata": {},
   "source": [
    "In this analyzing, I will just focus on the Age data of SURVIVED passengers"
   ]
  },
  {
   "cell_type": "markdown",
   "metadata": {},
   "source": [
    "## 3.1 Data Wrangling:"
   ]
  },
  {
   "cell_type": "code",
   "execution_count": 930,
   "metadata": {
    "collapsed": false
   },
   "outputs": [],
   "source": [
    "# extracting SURVIVED and AGE data of SURVIVED passengers\n",
    "full_data_survived_age = full_data[full_data['Survived'] == 1][['Survived','Age']]"
   ]
  },
  {
   "cell_type": "code",
   "execution_count": 931,
   "metadata": {
    "collapsed": false
   },
   "outputs": [
    {
     "data": {
      "text/html": [
       "<div>\n",
       "<table border=\"1\" class=\"dataframe\">\n",
       "  <thead>\n",
       "    <tr style=\"text-align: right;\">\n",
       "      <th></th>\n",
       "      <th>Survived</th>\n",
       "      <th>Age</th>\n",
       "    </tr>\n",
       "  </thead>\n",
       "  <tbody>\n",
       "    <tr>\n",
       "      <th>1</th>\n",
       "      <td>1</td>\n",
       "      <td>38.0</td>\n",
       "    </tr>\n",
       "    <tr>\n",
       "      <th>2</th>\n",
       "      <td>1</td>\n",
       "      <td>26.0</td>\n",
       "    </tr>\n",
       "    <tr>\n",
       "      <th>3</th>\n",
       "      <td>1</td>\n",
       "      <td>35.0</td>\n",
       "    </tr>\n",
       "    <tr>\n",
       "      <th>8</th>\n",
       "      <td>1</td>\n",
       "      <td>27.0</td>\n",
       "    </tr>\n",
       "    <tr>\n",
       "      <th>9</th>\n",
       "      <td>1</td>\n",
       "      <td>14.0</td>\n",
       "    </tr>\n",
       "  </tbody>\n",
       "</table>\n",
       "</div>"
      ],
      "text/plain": [
       "   Survived   Age\n",
       "1         1  38.0\n",
       "2         1  26.0\n",
       "3         1  35.0\n",
       "8         1  27.0\n",
       "9         1  14.0"
      ]
     },
     "execution_count": 931,
     "metadata": {},
     "output_type": "execute_result"
    }
   ],
   "source": [
    "full_data_survived_age.head()"
   ]
  },
  {
   "cell_type": "code",
   "execution_count": 932,
   "metadata": {
    "collapsed": false
   },
   "outputs": [
    {
     "name": "stdout",
     "output_type": "stream",
     "text": [
      "Type of data:  <class 'pandas.core.frame.DataFrame'>\n",
      "Number of columns:  2\n",
      "Column names:  Index(['Survived', 'Age'], dtype='object')\n",
      "Number of rows of full data:  342  rows.\n",
      "Column Survived has: totally  342  rows,  342  rows are valid,  0  rows are invalid.\n",
      "   Data values:  {1}\n",
      "Column Age has: totally  342  rows,  290  rows are valid,  52  rows are invalid.\n",
      "   Data values: in range ( 0.42 ,  80.0 )\n"
     ]
    }
   ],
   "source": [
    "data_overviewing(full_data_survived_age)"
   ]
  },
  {
   "cell_type": "markdown",
   "metadata": {},
   "source": [
    "Above informations tell that the DataFrame full_data_survived_age has:\n",
    "- 2 data olumns are: Survived and Age\n",
    "- 342 data rows.\n",
    "- all data rows of Survived column are valid, no invalid rows found. The data value is 1 - SURVIVED.\n",
    "- column Age has 290 valid rows, data values fall in range (0.42, 80.0). It has 52 invalid rows (NaN values) so I need to exclude them from my analyzing by using function dropna() of DataFrame"
   ]
  },
  {
   "cell_type": "markdown",
   "metadata": {},
   "source": [
    "## 3.2 Displaying the statistic values and box plot."
   ]
  },
  {
   "cell_type": "code",
   "execution_count": 933,
   "metadata": {
    "collapsed": false
   },
   "outputs": [
    {
     "data": {
      "text/html": [
       "<div>\n",
       "<table border=\"1\" class=\"dataframe\">\n",
       "  <thead>\n",
       "    <tr style=\"text-align: right;\">\n",
       "      <th></th>\n",
       "      <th>Age</th>\n",
       "    </tr>\n",
       "  </thead>\n",
       "  <tbody>\n",
       "    <tr>\n",
       "      <th>1</th>\n",
       "      <td>38.0</td>\n",
       "    </tr>\n",
       "    <tr>\n",
       "      <th>2</th>\n",
       "      <td>26.0</td>\n",
       "    </tr>\n",
       "    <tr>\n",
       "      <th>3</th>\n",
       "      <td>35.0</td>\n",
       "    </tr>\n",
       "    <tr>\n",
       "      <th>8</th>\n",
       "      <td>27.0</td>\n",
       "    </tr>\n",
       "    <tr>\n",
       "      <th>9</th>\n",
       "      <td>14.0</td>\n",
       "    </tr>\n",
       "  </tbody>\n",
       "</table>\n",
       "</div>"
      ],
      "text/plain": [
       "    Age\n",
       "1  38.0\n",
       "2  26.0\n",
       "3  35.0\n",
       "8  27.0\n",
       "9  14.0"
      ]
     },
     "execution_count": 933,
     "metadata": {},
     "output_type": "execute_result"
    }
   ],
   "source": [
    "# just extract the data of column 'Age'\n",
    "# remove all NaN values by using dropna()\n",
    "age_data_survived = full_data_survived_age['Age'].dropna()\n",
    "\n",
    "# create DataFrame\n",
    "df_age_data_survived = pd.DataFrame( data=age_data_survived, columns=['Age'])\n",
    "\n",
    "# view the first 5 records of the DataFrame\n",
    "df_age_data_survived.head()"
   ]
  },
  {
   "cell_type": "code",
   "execution_count": 934,
   "metadata": {
    "collapsed": false
   },
   "outputs": [
    {
     "data": {
      "text/html": [
       "<div>\n",
       "<table border=\"1\" class=\"dataframe\">\n",
       "  <thead>\n",
       "    <tr style=\"text-align: right;\">\n",
       "      <th></th>\n",
       "      <th>Age</th>\n",
       "    </tr>\n",
       "  </thead>\n",
       "  <tbody>\n",
       "    <tr>\n",
       "      <th>count</th>\n",
       "      <td>290.000000</td>\n",
       "    </tr>\n",
       "    <tr>\n",
       "      <th>mean</th>\n",
       "      <td>28.343690</td>\n",
       "    </tr>\n",
       "    <tr>\n",
       "      <th>std</th>\n",
       "      <td>14.950952</td>\n",
       "    </tr>\n",
       "    <tr>\n",
       "      <th>min</th>\n",
       "      <td>0.420000</td>\n",
       "    </tr>\n",
       "    <tr>\n",
       "      <th>25%</th>\n",
       "      <td>19.000000</td>\n",
       "    </tr>\n",
       "    <tr>\n",
       "      <th>50%</th>\n",
       "      <td>28.000000</td>\n",
       "    </tr>\n",
       "    <tr>\n",
       "      <th>75%</th>\n",
       "      <td>36.000000</td>\n",
       "    </tr>\n",
       "    <tr>\n",
       "      <th>max</th>\n",
       "      <td>80.000000</td>\n",
       "    </tr>\n",
       "  </tbody>\n",
       "</table>\n",
       "</div>"
      ],
      "text/plain": [
       "              Age\n",
       "count  290.000000\n",
       "mean    28.343690\n",
       "std     14.950952\n",
       "min      0.420000\n",
       "25%     19.000000\n",
       "50%     28.000000\n",
       "75%     36.000000\n",
       "max     80.000000"
      ]
     },
     "execution_count": 934,
     "metadata": {},
     "output_type": "execute_result"
    }
   ],
   "source": [
    "# take a look the statistic values \n",
    "df_age_data_survived.describe()"
   ]
  },
  {
   "cell_type": "markdown",
   "metadata": {},
   "source": [
    "Above statistic values tell us:\n",
    "- df_age_data_survived has 290 values after removing the invalid rows.\n",
    "- mean of age is 28.34 (years old) with standard deviation is 14.95 (years)\n",
    "- the minimum age of survived passenger is 0.42 (years old) while the maximum is 80 (years old).\n",
    "- the quartile values (Q1, Q2, Q3) are: 19, 28 and 36."
   ]
  },
  {
   "cell_type": "code",
   "execution_count": 935,
   "metadata": {
    "collapsed": false
   },
   "outputs": [
    {
     "data": {
      "image/png": "[encoded data removed]",
      "text/plain": [
       "<matplotlib.figure.Figure at 0x2ab3fe76d68>"
      ]
     },
     "metadata": {},
     "output_type": "display_data"
    }
   ],
   "source": [
    "####################### PLOTTING BOX & WHISKER PLOT #######################\n",
    "\n",
    "# set the figure size\n",
    "plt.figure(figsize=(5,8))\n",
    "\n",
    "# x locations\n",
    "x_locations = np.arange(1)\n",
    "\n",
    "# plotting box and whisker plot for the data in the horizontal boxes\n",
    "plt.boxplot(list(df_age_data_survived['Age']))\n",
    "\n",
    "# set the Y label is \"SURVIVAL STATE\"\n",
    "plt.ylabel(\"AGES\", fontsize = 15, fontname = 'Arial')\n",
    "\n",
    "# set the X label is \"FARE\"\n",
    "plt.xlabel(\"SURVIVAL STATE\", fontsize = 15, fontname = 'Arial')\n",
    "\n",
    "# set the title is \"COMPARISION OF FARE BY SURVIVAL STATE\"\n",
    "plt.title(\"AGES OF SURVIVED PASSENGERS\", fontsize = 20, fontname = 'Arial')\n",
    "\n",
    "# set the tick labels on the Y axis\n",
    "plt.xticks(x_locations + 1 , ['SURVIVED'])\n",
    "\n",
    "# display the plot\n",
    "plt.show()\n"
   ]
  },
  {
   "cell_type": "markdown",
   "metadata": {},
   "source": [
    "We can see the box is between 19 and 36, it means the most of age values lie between 19 and 36 (the Q1 and Q3 values), means most of survived passengers have ages in that interval."
   ]
  },
  {
   "cell_type": "markdown",
   "metadata": {},
   "source": [
    "The minimum and maximum value of ages are represented as the lowest and highest point of the whisker."
   ]
  },
  {
   "cell_type": "markdown",
   "metadata": {},
   "source": [
    "There are some dots above the highest point of the whisker, they are outlier values whose ages over 60 years old."
   ]
  },
  {
   "cell_type": "markdown",
   "metadata": {},
   "source": [
    "So we can conclude that the AGE range of SURVIVED passenger is a little spread out, there are some outlier in the set of values, and most of ages fall in the interval between 19 and 36 (years old) "
   ]
  },
  {
   "cell_type": "markdown",
   "metadata": {},
   "source": [
    "## 3.3. Did the passengers whose ages in [19, 36] have more chance to survive than the others?"
   ]
  },
  {
   "cell_type": "markdown",
   "metadata": {},
   "source": [
    "### 3.3.1 Hypothesis:"
   ]
  },
  {
   "cell_type": "markdown",
   "metadata": {},
   "source": [
    "I guess that passengers whose ages fall in that interval would have more chance to survive than the other."
   ]
  },
  {
   "cell_type": "markdown",
   "metadata": {},
   "source": [
    "I'm going to split data into 2 groups:\n",
    "- group A: ages in [19, 36] (means: 19 <= age <= 36)\n",
    "- group B: ages NOT in [19, 36] (means: age < 19 AND age > 36)    "
   ]
  },
  {
   "cell_type": "markdown",
   "metadata": {},
   "source": [
    "My hypothesis here is: the survival rate of group A is higher than the group B. So i have:"
   ]
  },
  {
   "cell_type": "markdown",
   "metadata": {},
   "source": [
    "Ho: p(A) <= p(B)"
   ]
  },
  {
   "cell_type": "markdown",
   "metadata": {},
   "source": [
    "Ha: p(A) > p(B)"
   ]
  },
  {
   "cell_type": "markdown",
   "metadata": {},
   "source": [
    "with:\n",
    "- p(A) is the survival rate of group A.\n",
    "- p(B) is the survival rate of group B."
   ]
  },
  {
   "cell_type": "markdown",
   "metadata": {
    "collapsed": true
   },
   "source": [
    "So now I'm going to perform the Z-test with two proportion in order to prove my hypothesis correct."
   ]
  },
  {
   "cell_type": "markdown",
   "metadata": {},
   "source": [
    "### 3.3.2 Perform Hypothesis Testing:"
   ]
  },
  {
   "cell_type": "markdown",
   "metadata": {},
   "source": [
    "Here are steps I will do now:"
   ]
  },
  {
   "cell_type": "markdown",
   "metadata": {},
   "source": [
    "1.Split raw data into 2 data groups A and B. (just take data of columns Age and Survived, remove all NaN values)"
   ]
  },
  {
   "cell_type": "markdown",
   "metadata": {},
   "source": [
    "2.For data group A: calculating the Number of all passenger (call n1) and the Number of survived passengers (call x1)"
   ]
  },
  {
   "cell_type": "markdown",
   "metadata": {},
   "source": [
    "  For data group B: calculating the Number of all passenger (call n2) and the Number of survived passengers (call x2)"
   ]
  },
  {
   "cell_type": "markdown",
   "metadata": {},
   "source": [
    "  Calculating the survival proportion of each group:\n",
    "    - p(A) = x1 / n1\n",
    "    - p(B) = x2 / n2\n",
    "    - p_bar = (x1+x2)/(n1+n2)    "
   ]
  },
  {
   "cell_type": "markdown",
   "metadata": {},
   "source": [
    "3.Perform hypothesis testing."
   ]
  },
  {
   "cell_type": "code",
   "execution_count": 936,
   "metadata": {
    "collapsed": true
   },
   "outputs": [],
   "source": [
    "######################## START 1 ##########################"
   ]
  },
  {
   "cell_type": "code",
   "execution_count": 937,
   "metadata": {
    "collapsed": true
   },
   "outputs": [],
   "source": [
    "# just extract data of columns Age and Survived\n",
    "# remove all NaN values\n",
    "age_n_survived_full_data = full_data[['Age','Survived']].dropna()"
   ]
  },
  {
   "cell_type": "code",
   "execution_count": 938,
   "metadata": {
    "collapsed": true
   },
   "outputs": [],
   "source": [
    "# function will split data into 2 groups A and B\n",
    "# if 19 <= age <= 36 --> group A\n",
    "# else group B\n",
    "\n",
    "def grouping_age(value):\n",
    "    try:\n",
    "        if value >= 19 and value <= 36:\n",
    "            return 'A'\n",
    "        else:\n",
    "            return 'B'\n",
    "    except:\n",
    "        raise ValueError"
   ]
  },
  {
   "cell_type": "code",
   "execution_count": 939,
   "metadata": {
    "collapsed": true
   },
   "outputs": [],
   "source": [
    "# create new column 'GROUP' then apply function grouping_age for the column Age\n",
    "age_n_survived_full_data['GROUP'] = age_n_survived_full_data['Age'].apply(grouping_age)"
   ]
  },
  {
   "cell_type": "code",
   "execution_count": 940,
   "metadata": {
    "collapsed": false
   },
   "outputs": [
    {
     "data": {
      "text/html": [
       "<div>\n",
       "<table border=\"1\" class=\"dataframe\">\n",
       "  <thead>\n",
       "    <tr style=\"text-align: right;\">\n",
       "      <th></th>\n",
       "      <th>Age</th>\n",
       "      <th>Survived</th>\n",
       "      <th>GROUP</th>\n",
       "    </tr>\n",
       "  </thead>\n",
       "  <tbody>\n",
       "    <tr>\n",
       "      <th>0</th>\n",
       "      <td>22.0</td>\n",
       "      <td>0</td>\n",
       "      <td>A</td>\n",
       "    </tr>\n",
       "    <tr>\n",
       "      <th>1</th>\n",
       "      <td>38.0</td>\n",
       "      <td>1</td>\n",
       "      <td>B</td>\n",
       "    </tr>\n",
       "    <tr>\n",
       "      <th>2</th>\n",
       "      <td>26.0</td>\n",
       "      <td>1</td>\n",
       "      <td>A</td>\n",
       "    </tr>\n",
       "    <tr>\n",
       "      <th>3</th>\n",
       "      <td>35.0</td>\n",
       "      <td>1</td>\n",
       "      <td>A</td>\n",
       "    </tr>\n",
       "    <tr>\n",
       "      <th>4</th>\n",
       "      <td>35.0</td>\n",
       "      <td>0</td>\n",
       "      <td>A</td>\n",
       "    </tr>\n",
       "  </tbody>\n",
       "</table>\n",
       "</div>"
      ],
      "text/plain": [
       "    Age  Survived GROUP\n",
       "0  22.0         0     A\n",
       "1  38.0         1     B\n",
       "2  26.0         1     A\n",
       "3  35.0         1     A\n",
       "4  35.0         0     A"
      ]
     },
     "execution_count": 940,
     "metadata": {},
     "output_type": "execute_result"
    }
   ],
   "source": [
    "age_n_survived_full_data.head()"
   ]
  },
  {
   "cell_type": "code",
   "execution_count": 941,
   "metadata": {
    "collapsed": false
   },
   "outputs": [
    {
     "name": "stdout",
     "output_type": "stream",
     "text": [
      "714\n"
     ]
    }
   ],
   "source": [
    "print(len(age_n_survived_full_data))"
   ]
  },
  {
   "cell_type": "code",
   "execution_count": 942,
   "metadata": {
    "collapsed": true
   },
   "outputs": [],
   "source": [
    "# new DataFrames for the data of group A and B\n",
    "# just take the column Survived which is survival status\n",
    "df_group_A = age_n_survived_full_data[ age_n_survived_full_data['GROUP'] == 'A' ]\n",
    "df_group_B = age_n_survived_full_data[ age_n_survived_full_data['GROUP'] == 'B' ]"
   ]
  },
  {
   "cell_type": "code",
   "execution_count": 943,
   "metadata": {
    "collapsed": true
   },
   "outputs": [],
   "source": [
    "######################## END 1 ##########################"
   ]
  },
  {
   "cell_type": "code",
   "execution_count": 944,
   "metadata": {
    "collapsed": true
   },
   "outputs": [],
   "source": [
    "######################## START 2 ########################"
   ]
  },
  {
   "cell_type": "code",
   "execution_count": 945,
   "metadata": {
    "collapsed": false
   },
   "outputs": [
    {
     "name": "stdout",
     "output_type": "stream",
     "text": [
      "380 148\n"
     ]
    }
   ],
   "source": [
    "# the Number of all passenger of group A: n1\n",
    "n1 = len(df_group_A)\n",
    "\n",
    "# the Number of survived passengers of group A: x1\n",
    "x1 = len(df_group_A[ df_group_A['Survived'] == 1 ])\n",
    "\n",
    "print(n1, x1)"
   ]
  },
  {
   "cell_type": "code",
   "execution_count": 946,
   "metadata": {
    "collapsed": false
   },
   "outputs": [
    {
     "name": "stdout",
     "output_type": "stream",
     "text": [
      "334 142\n"
     ]
    }
   ],
   "source": [
    "# the Number of all passenger of group B: n2\n",
    "n2 = len(df_group_B)\n",
    "\n",
    "# the Number of survived passengers of group B: x2\n",
    "x2 = len(df_group_B[ df_group_B['Survived'] == 1 ])\n",
    "\n",
    "print(n2, x2)"
   ]
  },
  {
   "cell_type": "code",
   "execution_count": null,
   "metadata": {
    "collapsed": true
   },
   "outputs": [],
   "source": [
    "# calculating p(A), p(B), p_bar\n",
    "p_hat_A = x1/n1\n",
    "p_hat_B = x2/n2\n",
    "p_bar = (x1+x2)/(n1+n2)\n",
    "\n",
    "print(p_hat_A, p_hat_B, p_bar)"
   ]
  },
  {
   "cell_type": "code",
   "execution_count": 948,
   "metadata": {
    "collapsed": true
   },
   "outputs": [],
   "source": [
    "######################## END 2 ##########################"
   ]
  },
  {
   "cell_type": "code",
   "execution_count": 949,
   "metadata": {
    "collapsed": true
   },
   "outputs": [],
   "source": [
    "######################## START 3 ########################"
   ]
  },
  {
   "cell_type": "markdown",
   "metadata": {},
   "source": [
    "Before perform the hypothesis testing, I assume that:\n",
    "- the sample data had been chosen randomly.\n",
    "- all passengers had equaly chance to survive so they are independent samples."
   ]
  },
  {
   "cell_type": "markdown",
   "metadata": {},
   "source": [
    " As we see the size of samples are n1 = 380 and n2 = 334, they are greater than 30 and are large samples so the population distribution would approximately normal. With the assumption and large samples, i will perform the Z-test with two proportion now."
   ]
  },
  {
   "cell_type": "code",
   "execution_count": 950,
   "metadata": {
    "collapsed": false
   },
   "outputs": [
    {
     "name": "stdout",
     "output_type": "stream",
     "text": [
      "-0.97\n"
     ]
    }
   ],
   "source": [
    "# calculating the z_statistic value\n",
    "z_statictic = round((p_hat_A - p_hat_B)/math.sqrt(p_bar*(1-p_bar)*(1/n1 + 1/n2)), 2)\n",
    "print(z_statictic)"
   ]
  },
  {
   "cell_type": "code",
   "execution_count": 951,
   "metadata": {
    "collapsed": true
   },
   "outputs": [],
   "source": [
    "# with Z-statistic value is -0.97, refer to the Z-table i have p-value\n",
    "p_value = 0.166"
   ]
  },
  {
   "cell_type": "code",
   "execution_count": 952,
   "metadata": {
    "collapsed": true
   },
   "outputs": [],
   "source": [
    "###################### CONCLUSION ######################"
   ]
  },
  {
   "cell_type": "markdown",
   "metadata": {},
   "source": [
    "At alpha level = 0.95, since p_value = 0.166 < 0.95 so we FAIL TO REJECT THE NULL."
   ]
  },
  {
   "cell_type": "markdown",
   "metadata": {},
   "source": [
    "That means the passengers whose ages in [19, 36] do NOT have the survival rate higher than the rest."
   ]
  },
  {
   "cell_type": "markdown",
   "metadata": {},
   "source": [
    "The box & whisker plot shows that most of survived people have ages in [19, 36] but actually there were 380 passengers like them among total 714 passengers on Titanic, the survival rate of theirs was high is easy to understand."
   ]
  },
  {
   "cell_type": "markdown",
   "metadata": {},
   "source": [
    "It does NOT guarantee that people whose ages in [19, 36] would have more chance to survive in other disaters like Titanic."
   ]
  },
  {
   "cell_type": "code",
   "execution_count": 953,
   "metadata": {
    "collapsed": true
   },
   "outputs": [],
   "source": [
    "######################## END 3 ########################"
   ]
  },
  {
   "cell_type": "markdown",
   "metadata": {},
   "source": [
    "# 4. CONCLUSION:"
   ]
  },
  {
   "cell_type": "markdown",
   "metadata": {},
   "source": [
    "## 4.1 Which kind of passenger has more chance to survived? "
   ]
  },
  {
   "cell_type": "markdown",
   "metadata": {},
   "source": [
    "The analyzing with GENDER absolutely proves that GENDER would affect to the survival probability positively when the disasters like Titanic happened, the statistical values shows that Female has higher rate than Male."
   ]
  },
  {
   "cell_type": "markdown",
   "metadata": {},
   "source": [
    "- There were 233 female among 342 totally survived passengers (68%)\n",
    "- Their survival rate was significantly higher than male (74.2% for female, 18.9% for male)"
   ]
  },
  {
   "cell_type": "markdown",
   "metadata": {},
   "source": [
    "The statement \"Ladies first\" could explain this, female usually will get high priority for rescuing when disasters happened, that's why they are more likely to survive than the strong party, and we are 99.99% ensure that by performing the Hypothesis testing."
   ]
  },
  {
   "cell_type": "markdown",
   "metadata": {},
   "source": [
    "Female got high priority, that's easy to understand for me but the reason that I'm going to discuss next suprised me. It is MONEY, interesting !!! and I'm 99.9% confident to ensure that people who spent more money on the fare would have more chance to survive."
   ]
  },
  {
   "cell_type": "markdown",
   "metadata": {},
   "source": [
    "Most of the statistical values (except the number of passengers) of SURVIVED passengers are greater than the NON-SURVIVED.\n",
    " - the average fare of SURVIVED was 48.53 (compare to 22.7 of NON-SURVIVED)\n",
    " - the minimum fare of SURVIVED was 6.975 (compare to 4.01 of NON-SURVIVED)\n",
    " - the maximum fare of SURVIVED was 512.33 (compare to 263 of NON-SURVIVED)"
   ]
  },
  {
   "cell_type": "markdown",
   "metadata": {},
   "source": [
    "and other statistical values as well, that means the SURVIVED passengers spent more money for fare than the NON-SURVIVED. It reminds me about the unfair treatment during the evacuation, seem the rich people were treated better than who has less money."
   ]
  },
  {
   "cell_type": "markdown",
   "metadata": {},
   "source": [
    "When seeing the age of survived people, most of them fall between 19 and 36 years and I was thinking that those people could have more chance to survive than others who were older or younger. The age between 19 and 36 would be ideal for people in this case because they were strong and smart enough to find the way to escape the ship."
   ]
  },
  {
   "cell_type": "markdown",
   "metadata": {},
   "source": [
    "But when compared the survival rate of those people with the others, i was not confident anymore. The rate of ages in [91, 36] years old was 38.95%, smaller than 42.51% of the rest, and I rejected the hypothesis after perform the testing to compare 2 proportions."
   ]
  },
  {
   "cell_type": "markdown",
   "metadata": {},
   "source": [
    "During exploring dataset, I found there were 380 passengers had age in [19, 36] years old among 714 passengers, that could explain why most of survived passengers are in that range of age."
   ]
  },
  {
   "cell_type": "markdown",
   "metadata": {},
   "source": [
    "I guess the rich ladies would like my conclusion, they would have more chance to survive than others."
   ]
  },
  {
   "cell_type": "markdown",
   "metadata": {},
   "source": [
    "## 4.2 Limitations of dataset:"
   ]
  },
  {
   "cell_type": "markdown",
   "metadata": {},
   "source": [
    "Titanic had an estimated 2,224 people on board when she struck an iceberg and more than 1,500 people dead after it sank, it means there were about 700 people survived. The dataset we have here includes 342 survived 549 non-survived people, it means still lacking information of about 360 survived and 1,000 non-survived people. It is the significant lacking if we compare to the existing dataset, it could limit the analyzing which requires the non-survived people's data, or even result in the incorrect conclusion of analyzing which using that data."
   ]
  },
  {
   "cell_type": "markdown",
   "metadata": {},
   "source": [
    "My analyzing with Fare is one sample. I was 99.9% confident to ensure the SURVIVED passengers spent more money than the NON-SURVIVED after doing Hypothesis testing. What will happen if I have enough data? means the data of 1,000 non-survived and 360 survived people lacking would be included as well. I might have to reject the hypothesis or the level of confidence might not be 99.9% anymore. The analyzing with Gender would be affected as well if there is no lacking of data."
   ]
  },
  {
   "cell_type": "markdown",
   "metadata": {},
   "source": [
    "The second thing is the dataset has columns:\n",
    "    - Pclass represent for the social class.\n",
    "    - Fare represents for money.\n",
    "    - SibSp and Parch represents for the number of people of her/his family on the board.\n",
    "    - Embarked represent for where the passenger started."
   ]
  },
  {
   "cell_type": "markdown",
   "metadata": {},
   "source": [
    "Those informations for me seem to measure the power of their voice on that ship, excluding some basic informations (PassengerId, Survived, Name, Sex) then they occupied 5 per 8 columns of remained informations. Their occurences could make analysts focus on the social informations instead of other personal informations, then it could result in the bias of conclusions."
   ]
  },
  {
   "cell_type": "markdown",
   "metadata": {},
   "source": [
    "Another thing about the dataset which I'm still wondering is what should I use the Cabin data for analyzing? For me it is just the name of a room, I don't know where was it in Titanic? It was the left or right side of the ship? How can I know which cabin was near the place where the iceberg collided the ship?... Actually I'm interested in whether or not the passenger's weight affects to the survival? the lifeboat would be not big enough for heavy people so small people could have more chance. I wish more information should be provided then we could see the big picture of disaster. I think that the data was collected based on the point of view of the collecters and it could limit the analyzings."
   ]
  },
  {
   "cell_type": "markdown",
   "metadata": {},
   "source": [
    "## 4.3 What's next?"
   ]
  },
  {
   "cell_type": "markdown",
   "metadata": {},
   "source": [
    "I'm also interested in how other factors like PCLASS, EMBARKED affect to the survival probability of passengers, in near furture I will do the analyzing and resubmit this project."
   ]
  },
  {
   "cell_type": "code",
   "execution_count": null,
   "metadata": {
    "collapsed": true
   },
   "outputs": [],
   "source": []
  }
 ],
 "metadata": {
  "kernelspec": {
   "display_name": "Python 3",
   "language": "python",
   "name": "python3"
  },
  "language_info": {
   "codemirror_mode": {
    "name": "ipython",
    "version": 3
   },
   "file_extension": ".py",
   "mimetype": "text/x-python",
   "name": "python",
   "nbconvert_exporter": "python",
   "pygments_lexer": "ipython3",
   "version": "3.6.0"
  }
 },
 "nbformat": 4,
 "nbformat_minor": 2
}
